{
 "cells": [
  {
   "cell_type": "markdown",
   "id": "30a6d209-43a1-41e8-b41a-eef612f80b9a",
   "metadata": {},
   "source": [
    "# Boston Housing Price Prediction "
   ]
  },
  {
   "cell_type": "markdown",
   "id": "62145d60-edfb-464e-aed9-498ac3510e5e",
   "metadata": {},
   "source": [
    "## 1. Feature discription"
   ]
  },
  {
   "cell_type": "markdown",
   "id": "26a0fd45-ca9a-43cd-96e2-47d725d0f157",
   "metadata": {},
   "source": [
    "### Remeber to split features and Dependant/Target Varible"
   ]
  },
  {
   "cell_type": "markdown",
   "id": "b25775d9-8750-47b6-b14f-7d365a8ee0d5",
   "metadata": {},
   "source": [
    "* *CRIM*: per capita crime rate by town\n",
    "* *ZN*: proportion of residential land zoned for lots over 25,000 sq.ft.\n",
    "* INDUS*: proportion of non-retail business acres per town\n",
    "* *CHAS*: Charles River dummy variable (= 1 if tract bounds river; 0 otherwise)\n",
    "* *NOX*: nitric oxides concentration (parts per 10 million)\n",
    "* *RM*: average number of rooms per dwelling\n",
    "* *AGE*: proportion of owner-occupied units built prior to 1940\n",
    "* *DIS*: weighted distances to five Boston employment centers\n",
    "* *RAD*: index of accessibility to radial highways\n",
    "* *TAX*: full-value property-tax rate per $10,000\n",
    "\n",
    "* *PTRATIO*: pupil-teacher ratio by town\n",
    "* *B*: 1000(Bk - 0.63)^2 where Bk is the proportion of Black people by town\n",
    "* *LSTAT*: % lower status of the population\n",
    "* *MEDV*: Median value of owner-occupied homes in $1000’s"
   ]
  },
  {
   "cell_type": "markdown",
   "id": "627146a6-3baf-4851-a9e6-3339fde920d2",
   "metadata": {
    "jp-MarkdownHeadingCollapsed": true
   },
   "source": [
    "## 2. Import required Libraries"
   ]
  },
  {
   "cell_type": "code",
   "execution_count": 1,
   "id": "5e76bf78-a009-467b-8fd6-9e086226a1cc",
   "metadata": {},
   "outputs": [],
   "source": [
    "# data tranform and statistical operation\n",
    "import pandas as pd\n",
    "import numpy as np\n",
    "\n",
    "# visualization\n",
    "import matplotlib.pyplot as plt\n",
    "\"\"\"\"magic command after using this, no need to use plt.show()\n",
    "Without %matplotlib inline, you would need to use plt.show() after creating a plot to display\n",
    "it. However, with this magic command, plots are automatically displayed when the cell is run.\"\"\"\n",
    "%matplotlib inline\n",
    "\n",
    "import seaborn as sns\n",
    "from pandas.plotting import scatter_matrix\n",
    "\n",
    "# sampling and split\n",
    "from sklearn.model_selection import train_test_split\n",
    "from sklearn.model_selection import StratifiedShuffleSplit\n",
    "\n",
    "# imputation\n",
    "from sklearn.impute import SimpleImputer\n",
    "\n",
    "# pipeline\n",
    "from sklearn.pipeline import Pipeline\n",
    "\n",
    "# model selection, regressors\n",
    "from sklearn.linear_model import LinearRegression\n",
    "from sklearn.tree import DecisionTreeRegressor\n",
    "from sklearn.ensemble import RandomForestRegressor\n",
    "\n",
    "\n",
    "# normalization and scaling technique\n",
    "from sklearn.preprocessing import StandardScaler\n",
    "\n",
    "# model evaluation\n",
    "from sklearn.metrics import mean_squared_error"
   ]
  },
  {
   "cell_type": "markdown",
   "id": "18f00397-dfef-4bc6-b21c-ce4328f05bb3",
   "metadata": {
    "jp-MarkdownHeadingCollapsed": true
   },
   "source": [
    "## 3. take look at data"
   ]
  },
  {
   "cell_type": "code",
   "execution_count": 2,
   "id": "b2f746e2-d5c4-4cd5-9226-3150f653c523",
   "metadata": {},
   "outputs": [],
   "source": [
    "housing_df = pd.read_csv('boston.csv')"
   ]
  },
  {
   "cell_type": "code",
   "execution_count": 3,
   "id": "ed959c06-4e78-4d4e-87fb-6c4bc58c04da",
   "metadata": {},
   "outputs": [
    {
     "data": {
      "text/html": [
       "<div>\n",
       "<style scoped>\n",
       "    .dataframe tbody tr th:only-of-type {\n",
       "        vertical-align: middle;\n",
       "    }\n",
       "\n",
       "    .dataframe tbody tr th {\n",
       "        vertical-align: top;\n",
       "    }\n",
       "\n",
       "    .dataframe thead th {\n",
       "        text-align: right;\n",
       "    }\n",
       "</style>\n",
       "<table border=\"1\" class=\"dataframe\">\n",
       "  <thead>\n",
       "    <tr style=\"text-align: right;\">\n",
       "      <th></th>\n",
       "      <th>CRIM</th>\n",
       "      <th>ZN</th>\n",
       "      <th>INDUS</th>\n",
       "      <th>CHAS</th>\n",
       "      <th>NOX</th>\n",
       "      <th>RM</th>\n",
       "      <th>AGE</th>\n",
       "      <th>DIS</th>\n",
       "      <th>RAD</th>\n",
       "      <th>TAX</th>\n",
       "      <th>PTRATIO</th>\n",
       "      <th>B</th>\n",
       "      <th>LSTAT</th>\n",
       "      <th>MEDV</th>\n",
       "    </tr>\n",
       "  </thead>\n",
       "  <tbody>\n",
       "    <tr>\n",
       "      <th>0</th>\n",
       "      <td>0.00632</td>\n",
       "      <td>18.0</td>\n",
       "      <td>2.31</td>\n",
       "      <td>0</td>\n",
       "      <td>0.538</td>\n",
       "      <td>6.575</td>\n",
       "      <td>65.2</td>\n",
       "      <td>4.0900</td>\n",
       "      <td>1</td>\n",
       "      <td>296</td>\n",
       "      <td>15.3</td>\n",
       "      <td>396.90</td>\n",
       "      <td>4.98</td>\n",
       "      <td>24.0</td>\n",
       "    </tr>\n",
       "    <tr>\n",
       "      <th>1</th>\n",
       "      <td>0.02731</td>\n",
       "      <td>0.0</td>\n",
       "      <td>7.07</td>\n",
       "      <td>0</td>\n",
       "      <td>0.469</td>\n",
       "      <td>6.421</td>\n",
       "      <td>78.9</td>\n",
       "      <td>4.9671</td>\n",
       "      <td>2</td>\n",
       "      <td>242</td>\n",
       "      <td>17.8</td>\n",
       "      <td>396.90</td>\n",
       "      <td>9.14</td>\n",
       "      <td>21.6</td>\n",
       "    </tr>\n",
       "    <tr>\n",
       "      <th>2</th>\n",
       "      <td>0.02729</td>\n",
       "      <td>0.0</td>\n",
       "      <td>7.07</td>\n",
       "      <td>0</td>\n",
       "      <td>0.469</td>\n",
       "      <td>7.185</td>\n",
       "      <td>61.1</td>\n",
       "      <td>4.9671</td>\n",
       "      <td>2</td>\n",
       "      <td>242</td>\n",
       "      <td>17.8</td>\n",
       "      <td>392.83</td>\n",
       "      <td>4.03</td>\n",
       "      <td>34.7</td>\n",
       "    </tr>\n",
       "    <tr>\n",
       "      <th>3</th>\n",
       "      <td>0.03237</td>\n",
       "      <td>0.0</td>\n",
       "      <td>2.18</td>\n",
       "      <td>0</td>\n",
       "      <td>0.458</td>\n",
       "      <td>6.998</td>\n",
       "      <td>45.8</td>\n",
       "      <td>6.0622</td>\n",
       "      <td>3</td>\n",
       "      <td>222</td>\n",
       "      <td>18.7</td>\n",
       "      <td>394.63</td>\n",
       "      <td>2.94</td>\n",
       "      <td>33.4</td>\n",
       "    </tr>\n",
       "    <tr>\n",
       "      <th>4</th>\n",
       "      <td>0.06905</td>\n",
       "      <td>0.0</td>\n",
       "      <td>2.18</td>\n",
       "      <td>0</td>\n",
       "      <td>0.458</td>\n",
       "      <td>NaN</td>\n",
       "      <td>54.2</td>\n",
       "      <td>6.0622</td>\n",
       "      <td>3</td>\n",
       "      <td>222</td>\n",
       "      <td>18.7</td>\n",
       "      <td>396.90</td>\n",
       "      <td>5.33</td>\n",
       "      <td>36.2</td>\n",
       "    </tr>\n",
       "  </tbody>\n",
       "</table>\n",
       "</div>"
      ],
      "text/plain": [
       "      CRIM    ZN  INDUS  CHAS    NOX     RM   AGE     DIS  RAD  TAX  PTRATIO  \\\n",
       "0  0.00632  18.0   2.31     0  0.538  6.575  65.2  4.0900    1  296     15.3   \n",
       "1  0.02731   0.0   7.07     0  0.469  6.421  78.9  4.9671    2  242     17.8   \n",
       "2  0.02729   0.0   7.07     0  0.469  7.185  61.1  4.9671    2  242     17.8   \n",
       "3  0.03237   0.0   2.18     0  0.458  6.998  45.8  6.0622    3  222     18.7   \n",
       "4  0.06905   0.0   2.18     0  0.458    NaN  54.2  6.0622    3  222     18.7   \n",
       "\n",
       "        B  LSTAT  MEDV  \n",
       "0  396.90   4.98  24.0  \n",
       "1  396.90   9.14  21.6  \n",
       "2  392.83   4.03  34.7  \n",
       "3  394.63   2.94  33.4  \n",
       "4  396.90   5.33  36.2  "
      ]
     },
     "execution_count": 3,
     "metadata": {},
     "output_type": "execute_result"
    }
   ],
   "source": [
    "# take first look of data\n",
    "housing_df.head()"
   ]
  },
  {
   "cell_type": "code",
   "execution_count": 4,
   "id": "e6388c70-1718-4167-b9b5-2d36a4f109a3",
   "metadata": {},
   "outputs": [
    {
     "name": "stdout",
     "output_type": "stream",
     "text": [
      "Range of the target variable 'MEDV' is: 45.0\n"
     ]
    }
   ],
   "source": [
    "# target variable range\n",
    "\n",
    "def target_variable_range(housing_df):\n",
    "    range = housing_df[\"MEDV\"].max() - housing_df[\"MEDV\"].min()\n",
    "    print(\"Range of the target variable 'MEDV' is:\", range)\n",
    "\n",
    "target_variable_range(housing_df)"
   ]
  },
  {
   "cell_type": "code",
   "execution_count": 5,
   "id": "f0c704af-4fbe-47c8-8f94-25240b80ccae",
   "metadata": {},
   "outputs": [
    {
     "name": "stdout",
     "output_type": "stream",
     "text": [
      "<class 'pandas.core.frame.DataFrame'>\n",
      "RangeIndex: 506 entries, 0 to 505\n",
      "Data columns (total 14 columns):\n",
      " #   Column   Non-Null Count  Dtype  \n",
      "---  ------   --------------  -----  \n",
      " 0   CRIM     506 non-null    float64\n",
      " 1   ZN       506 non-null    float64\n",
      " 2   INDUS    506 non-null    float64\n",
      " 3   CHAS     506 non-null    int64  \n",
      " 4   NOX      506 non-null    float64\n",
      " 5   RM       501 non-null    float64\n",
      " 6   AGE      506 non-null    float64\n",
      " 7   DIS      506 non-null    float64\n",
      " 8   RAD      506 non-null    int64  \n",
      " 9   TAX      506 non-null    int64  \n",
      " 10  PTRATIO  506 non-null    float64\n",
      " 11  B        506 non-null    float64\n",
      " 12  LSTAT    506 non-null    float64\n",
      " 13  MEDV     506 non-null    float64\n",
      "dtypes: float64(11), int64(3)\n",
      "memory usage: 55.5 KB\n"
     ]
    }
   ],
   "source": [
    "# information about data\n",
    "housing_df.info()"
   ]
  },
  {
   "cell_type": "code",
   "execution_count": 6,
   "id": "de3b3142-4b4d-40cc-87da-09d677dbe4f3",
   "metadata": {},
   "outputs": [
    {
     "name": "stdout",
     "output_type": "stream",
     "text": [
      "Feature 'RM' has '5' null values\n"
     ]
    }
   ],
   "source": [
    "# check for null values\n",
    "# create funtion nan\n",
    "def nan(housing_df):\n",
    "    nan_counts = housing_df.isna().sum()\n",
    "    for index, value in enumerate(nan_counts):\n",
    "        if value > 0:\n",
    "            print(f\"Feature '{housing_df.columns[index]}' has '{value}' null values\")\n",
    "\n",
    "# pass the argument in defined function\n",
    "nan(housing_df)"
   ]
  },
  {
   "cell_type": "code",
   "execution_count": 7,
   "id": "0d13e36f-b967-4347-a8d3-bfb2b0a6ae69",
   "metadata": {},
   "outputs": [
    {
     "data": {
      "text/html": [
       "<div>\n",
       "<style scoped>\n",
       "    .dataframe tbody tr th:only-of-type {\n",
       "        vertical-align: middle;\n",
       "    }\n",
       "\n",
       "    .dataframe tbody tr th {\n",
       "        vertical-align: top;\n",
       "    }\n",
       "\n",
       "    .dataframe thead th {\n",
       "        text-align: right;\n",
       "    }\n",
       "</style>\n",
       "<table border=\"1\" class=\"dataframe\">\n",
       "  <thead>\n",
       "    <tr style=\"text-align: right;\">\n",
       "      <th></th>\n",
       "      <th>CRIM</th>\n",
       "      <th>ZN</th>\n",
       "      <th>INDUS</th>\n",
       "      <th>CHAS</th>\n",
       "      <th>NOX</th>\n",
       "      <th>RM</th>\n",
       "      <th>AGE</th>\n",
       "      <th>DIS</th>\n",
       "      <th>RAD</th>\n",
       "      <th>TAX</th>\n",
       "      <th>PTRATIO</th>\n",
       "      <th>B</th>\n",
       "      <th>LSTAT</th>\n",
       "      <th>MEDV</th>\n",
       "    </tr>\n",
       "  </thead>\n",
       "  <tbody>\n",
       "    <tr>\n",
       "      <th>count</th>\n",
       "      <td>506.000000</td>\n",
       "      <td>506.000000</td>\n",
       "      <td>506.000000</td>\n",
       "      <td>506.000000</td>\n",
       "      <td>506.000000</td>\n",
       "      <td>501.000000</td>\n",
       "      <td>506.000000</td>\n",
       "      <td>506.000000</td>\n",
       "      <td>506.000000</td>\n",
       "      <td>506.000000</td>\n",
       "      <td>506.000000</td>\n",
       "      <td>506.000000</td>\n",
       "      <td>506.000000</td>\n",
       "      <td>506.000000</td>\n",
       "    </tr>\n",
       "    <tr>\n",
       "      <th>mean</th>\n",
       "      <td>3.613524</td>\n",
       "      <td>11.363636</td>\n",
       "      <td>11.136779</td>\n",
       "      <td>0.069170</td>\n",
       "      <td>0.554695</td>\n",
       "      <td>6.282699</td>\n",
       "      <td>68.574901</td>\n",
       "      <td>3.795043</td>\n",
       "      <td>9.549407</td>\n",
       "      <td>408.237154</td>\n",
       "      <td>18.455534</td>\n",
       "      <td>356.674032</td>\n",
       "      <td>12.653063</td>\n",
       "      <td>22.532806</td>\n",
       "    </tr>\n",
       "    <tr>\n",
       "      <th>std</th>\n",
       "      <td>8.601545</td>\n",
       "      <td>23.322453</td>\n",
       "      <td>6.860353</td>\n",
       "      <td>0.253994</td>\n",
       "      <td>0.115878</td>\n",
       "      <td>0.704089</td>\n",
       "      <td>28.148861</td>\n",
       "      <td>2.105710</td>\n",
       "      <td>8.707259</td>\n",
       "      <td>168.537116</td>\n",
       "      <td>2.164946</td>\n",
       "      <td>91.294864</td>\n",
       "      <td>7.141062</td>\n",
       "      <td>9.197104</td>\n",
       "    </tr>\n",
       "    <tr>\n",
       "      <th>min</th>\n",
       "      <td>0.006320</td>\n",
       "      <td>0.000000</td>\n",
       "      <td>0.460000</td>\n",
       "      <td>0.000000</td>\n",
       "      <td>0.385000</td>\n",
       "      <td>3.561000</td>\n",
       "      <td>2.900000</td>\n",
       "      <td>1.129600</td>\n",
       "      <td>1.000000</td>\n",
       "      <td>187.000000</td>\n",
       "      <td>12.600000</td>\n",
       "      <td>0.320000</td>\n",
       "      <td>1.730000</td>\n",
       "      <td>5.000000</td>\n",
       "    </tr>\n",
       "    <tr>\n",
       "      <th>25%</th>\n",
       "      <td>0.082045</td>\n",
       "      <td>0.000000</td>\n",
       "      <td>5.190000</td>\n",
       "      <td>0.000000</td>\n",
       "      <td>0.449000</td>\n",
       "      <td>5.884000</td>\n",
       "      <td>45.025000</td>\n",
       "      <td>2.100175</td>\n",
       "      <td>4.000000</td>\n",
       "      <td>279.000000</td>\n",
       "      <td>17.400000</td>\n",
       "      <td>375.377500</td>\n",
       "      <td>6.950000</td>\n",
       "      <td>17.025000</td>\n",
       "    </tr>\n",
       "    <tr>\n",
       "      <th>50%</th>\n",
       "      <td>0.256510</td>\n",
       "      <td>0.000000</td>\n",
       "      <td>9.690000</td>\n",
       "      <td>0.000000</td>\n",
       "      <td>0.538000</td>\n",
       "      <td>6.209000</td>\n",
       "      <td>77.500000</td>\n",
       "      <td>3.207450</td>\n",
       "      <td>5.000000</td>\n",
       "      <td>330.000000</td>\n",
       "      <td>19.050000</td>\n",
       "      <td>391.440000</td>\n",
       "      <td>11.360000</td>\n",
       "      <td>21.200000</td>\n",
       "    </tr>\n",
       "    <tr>\n",
       "      <th>75%</th>\n",
       "      <td>3.677083</td>\n",
       "      <td>12.500000</td>\n",
       "      <td>18.100000</td>\n",
       "      <td>0.000000</td>\n",
       "      <td>0.624000</td>\n",
       "      <td>6.619000</td>\n",
       "      <td>94.075000</td>\n",
       "      <td>5.188425</td>\n",
       "      <td>24.000000</td>\n",
       "      <td>666.000000</td>\n",
       "      <td>20.200000</td>\n",
       "      <td>396.225000</td>\n",
       "      <td>16.955000</td>\n",
       "      <td>25.000000</td>\n",
       "    </tr>\n",
       "    <tr>\n",
       "      <th>max</th>\n",
       "      <td>88.976200</td>\n",
       "      <td>100.000000</td>\n",
       "      <td>27.740000</td>\n",
       "      <td>1.000000</td>\n",
       "      <td>0.871000</td>\n",
       "      <td>8.780000</td>\n",
       "      <td>100.000000</td>\n",
       "      <td>12.126500</td>\n",
       "      <td>24.000000</td>\n",
       "      <td>711.000000</td>\n",
       "      <td>22.000000</td>\n",
       "      <td>396.900000</td>\n",
       "      <td>37.970000</td>\n",
       "      <td>50.000000</td>\n",
       "    </tr>\n",
       "  </tbody>\n",
       "</table>\n",
       "</div>"
      ],
      "text/plain": [
       "             CRIM          ZN       INDUS        CHAS         NOX          RM  \\\n",
       "count  506.000000  506.000000  506.000000  506.000000  506.000000  501.000000   \n",
       "mean     3.613524   11.363636   11.136779    0.069170    0.554695    6.282699   \n",
       "std      8.601545   23.322453    6.860353    0.253994    0.115878    0.704089   \n",
       "min      0.006320    0.000000    0.460000    0.000000    0.385000    3.561000   \n",
       "25%      0.082045    0.000000    5.190000    0.000000    0.449000    5.884000   \n",
       "50%      0.256510    0.000000    9.690000    0.000000    0.538000    6.209000   \n",
       "75%      3.677083   12.500000   18.100000    0.000000    0.624000    6.619000   \n",
       "max     88.976200  100.000000   27.740000    1.000000    0.871000    8.780000   \n",
       "\n",
       "              AGE         DIS         RAD         TAX     PTRATIO           B  \\\n",
       "count  506.000000  506.000000  506.000000  506.000000  506.000000  506.000000   \n",
       "mean    68.574901    3.795043    9.549407  408.237154   18.455534  356.674032   \n",
       "std     28.148861    2.105710    8.707259  168.537116    2.164946   91.294864   \n",
       "min      2.900000    1.129600    1.000000  187.000000   12.600000    0.320000   \n",
       "25%     45.025000    2.100175    4.000000  279.000000   17.400000  375.377500   \n",
       "50%     77.500000    3.207450    5.000000  330.000000   19.050000  391.440000   \n",
       "75%     94.075000    5.188425   24.000000  666.000000   20.200000  396.225000   \n",
       "max    100.000000   12.126500   24.000000  711.000000   22.000000  396.900000   \n",
       "\n",
       "            LSTAT        MEDV  \n",
       "count  506.000000  506.000000  \n",
       "mean    12.653063   22.532806  \n",
       "std      7.141062    9.197104  \n",
       "min      1.730000    5.000000  \n",
       "25%      6.950000   17.025000  \n",
       "50%     11.360000   21.200000  \n",
       "75%     16.955000   25.000000  \n",
       "max     37.970000   50.000000  "
      ]
     },
     "execution_count": 7,
     "metadata": {},
     "output_type": "execute_result"
    }
   ],
   "source": [
    "housing_df.describe()"
   ]
  },
  {
   "cell_type": "code",
   "execution_count": 8,
   "id": "96cc964b-55f5-474e-99db-f0cd96c8b990",
   "metadata": {},
   "outputs": [
    {
     "name": "stdout",
     "output_type": "stream",
     "text": [
      "'0' duplicate values present\n"
     ]
    }
   ],
   "source": [
    "dup_counts = housing_df.duplicated().sum()\n",
    "print(f\"'{dup_counts}' duplicate values present\")"
   ]
  },
  {
   "cell_type": "markdown",
   "id": "1134bcca-fbee-44d7-a91d-de3bc160d8c3",
   "metadata": {},
   "source": [
    "* CHAS = 1: The tract of land is located along the Charles River.\r",
    "* \n",
    "CHAS = 0: The tract of land is not adjacent to the Charles River."
   ]
  },
  {
   "cell_type": "code",
   "execution_count": 9,
   "id": "39b0c38a-2d3a-4dfd-a98d-a6b8e0e0a9fc",
   "metadata": {},
   "outputs": [
    {
     "data": {
      "text/plain": [
       "CHAS\n",
       "0    471\n",
       "1     35\n",
       "Name: count, dtype: int64"
      ]
     },
     "execution_count": 9,
     "metadata": {},
     "output_type": "execute_result"
    }
   ],
   "source": [
    "housing_df[\"CHAS\"].value_counts()"
   ]
  },
  {
   "cell_type": "code",
   "execution_count": 10,
   "id": "8b1c20fb-9e33-4c30-ae81-4c8c4778fd8d",
   "metadata": {},
   "outputs": [],
   "source": [
    "# housing.hist(bins=50, figsize=(20,15)) commentout just to avoid extra run time taken"
   ]
  },
  {
   "cell_type": "markdown",
   "id": "e0213762-c628-49ec-b015-64b4d23fadc6",
   "metadata": {},
   "source": [
    "### some insights from histplots\n",
    "* MEDV: standard normal distribution\n",
    "* RM: Standard normal distribution\n",
    "* CHAS: yes '1' or no '0' values"
   ]
  },
  {
   "cell_type": "markdown",
   "id": "0c2d1aed-ee1a-4db7-bca8-17ed7fd8cfba",
   "metadata": {
    "jp-MarkdownHeadingCollapsed": true
   },
   "source": [
    "## 4. Train Test Split"
   ]
  },
  {
   "cell_type": "code",
   "execution_count": 11,
   "id": "53a40811-baed-4210-957a-d997b382ceae",
   "metadata": {},
   "outputs": [
    {
     "name": "stdout",
     "output_type": "stream",
     "text": [
      "Rows in train_set: 404\n",
      "Rows in test_set: 102\n"
     ]
    }
   ],
   "source": [
    "from sklearn.model_selection import train_test_split\n",
    "train_set, test_set = train_test_split(housing_df, test_size=0.2, random_state=42)\n",
    "print(f\"Rows in train_set: {len(train_set)}\\nRows in test_set: {len(test_set)}\")"
   ]
  },
  {
   "cell_type": "markdown",
   "id": "655813b1-97c3-4f70-8cf2-49738056dd38",
   "metadata": {
    "jp-MarkdownHeadingCollapsed": true
   },
   "source": [
    "## 5. Stratified Sampling \n",
    "* StratifiedShuffleSplit"
   ]
  },
  {
   "cell_type": "code",
   "execution_count": 12,
   "id": "b4af4cff-874c-4d1e-971a-1d19837b5c67",
   "metadata": {},
   "outputs": [],
   "source": [
    "from sklearn.model_selection import StratifiedShuffleSplit\n",
    "\n",
    "sss = StratifiedShuffleSplit(n_splits=1, test_size=0.2, random_state=42)\n",
    "\n",
    "for train_index, test_index in sss.split(housing_df, housing_df[\"CHAS\"]):\n",
    "    strat_train_set = housing_df.iloc[train_index]\n",
    "    strat_test_set = housing_df.iloc[test_index]"
   ]
  },
  {
   "cell_type": "code",
   "execution_count": 13,
   "id": "ee8cc0b0-7caf-45b6-9485-b762a7074cd3",
   "metadata": {},
   "outputs": [
    {
     "data": {
      "text/plain": [
       "(404, 14)"
      ]
     },
     "execution_count": 13,
     "metadata": {},
     "output_type": "execute_result"
    }
   ],
   "source": [
    "strat_train_set.shape"
   ]
  },
  {
   "cell_type": "code",
   "execution_count": 14,
   "id": "b463ac03-0b52-4bab-be83-1f56eb5c90cc",
   "metadata": {},
   "outputs": [
    {
     "data": {
      "text/html": [
       "<div>\n",
       "<style scoped>\n",
       "    .dataframe tbody tr th:only-of-type {\n",
       "        vertical-align: middle;\n",
       "    }\n",
       "\n",
       "    .dataframe tbody tr th {\n",
       "        vertical-align: top;\n",
       "    }\n",
       "\n",
       "    .dataframe thead th {\n",
       "        text-align: right;\n",
       "    }\n",
       "</style>\n",
       "<table border=\"1\" class=\"dataframe\">\n",
       "  <thead>\n",
       "    <tr style=\"text-align: right;\">\n",
       "      <th></th>\n",
       "      <th>CRIM</th>\n",
       "      <th>ZN</th>\n",
       "      <th>INDUS</th>\n",
       "      <th>CHAS</th>\n",
       "      <th>NOX</th>\n",
       "      <th>RM</th>\n",
       "      <th>AGE</th>\n",
       "      <th>DIS</th>\n",
       "      <th>RAD</th>\n",
       "      <th>TAX</th>\n",
       "      <th>PTRATIO</th>\n",
       "      <th>B</th>\n",
       "      <th>LSTAT</th>\n",
       "      <th>MEDV</th>\n",
       "    </tr>\n",
       "  </thead>\n",
       "  <tbody>\n",
       "    <tr>\n",
       "      <th>count</th>\n",
       "      <td>102.000000</td>\n",
       "      <td>102.000000</td>\n",
       "      <td>102.000000</td>\n",
       "      <td>102.000000</td>\n",
       "      <td>102.000000</td>\n",
       "      <td>101.000000</td>\n",
       "      <td>102.000000</td>\n",
       "      <td>102.000000</td>\n",
       "      <td>102.000000</td>\n",
       "      <td>102.000000</td>\n",
       "      <td>102.000000</td>\n",
       "      <td>102.000000</td>\n",
       "      <td>102.000000</td>\n",
       "      <td>102.000000</td>\n",
       "    </tr>\n",
       "    <tr>\n",
       "      <th>mean</th>\n",
       "      <td>3.655942</td>\n",
       "      <td>13.450980</td>\n",
       "      <td>10.312255</td>\n",
       "      <td>0.068627</td>\n",
       "      <td>0.541353</td>\n",
       "      <td>6.304921</td>\n",
       "      <td>66.733333</td>\n",
       "      <td>3.988460</td>\n",
       "      <td>8.813725</td>\n",
       "      <td>391.980392</td>\n",
       "      <td>18.385294</td>\n",
       "      <td>369.670196</td>\n",
       "      <td>12.104314</td>\n",
       "      <td>22.625490</td>\n",
       "    </tr>\n",
       "    <tr>\n",
       "      <th>std</th>\n",
       "      <td>10.400966</td>\n",
       "      <td>27.503241</td>\n",
       "      <td>6.761154</td>\n",
       "      <td>0.254068</td>\n",
       "      <td>0.111397</td>\n",
       "      <td>0.666113</td>\n",
       "      <td>27.772183</td>\n",
       "      <td>2.131247</td>\n",
       "      <td>8.614667</td>\n",
       "      <td>167.837379</td>\n",
       "      <td>2.310604</td>\n",
       "      <td>68.075774</td>\n",
       "      <td>6.759257</td>\n",
       "      <td>8.452344</td>\n",
       "    </tr>\n",
       "    <tr>\n",
       "      <th>min</th>\n",
       "      <td>0.009060</td>\n",
       "      <td>0.000000</td>\n",
       "      <td>0.460000</td>\n",
       "      <td>0.000000</td>\n",
       "      <td>0.385000</td>\n",
       "      <td>4.138000</td>\n",
       "      <td>6.500000</td>\n",
       "      <td>1.137000</td>\n",
       "      <td>1.000000</td>\n",
       "      <td>188.000000</td>\n",
       "      <td>12.600000</td>\n",
       "      <td>3.650000</td>\n",
       "      <td>2.470000</td>\n",
       "      <td>5.000000</td>\n",
       "    </tr>\n",
       "    <tr>\n",
       "      <th>25%</th>\n",
       "      <td>0.057827</td>\n",
       "      <td>0.000000</td>\n",
       "      <td>4.950000</td>\n",
       "      <td>0.000000</td>\n",
       "      <td>0.448000</td>\n",
       "      <td>5.905000</td>\n",
       "      <td>45.850000</td>\n",
       "      <td>2.223650</td>\n",
       "      <td>4.000000</td>\n",
       "      <td>270.000000</td>\n",
       "      <td>16.800000</td>\n",
       "      <td>377.685000</td>\n",
       "      <td>7.480000</td>\n",
       "      <td>18.925000</td>\n",
       "    </tr>\n",
       "    <tr>\n",
       "      <th>50%</th>\n",
       "      <td>0.176150</td>\n",
       "      <td>0.000000</td>\n",
       "      <td>7.760000</td>\n",
       "      <td>0.000000</td>\n",
       "      <td>0.515000</td>\n",
       "      <td>6.185000</td>\n",
       "      <td>71.100000</td>\n",
       "      <td>3.422950</td>\n",
       "      <td>5.000000</td>\n",
       "      <td>307.000000</td>\n",
       "      <td>19.150000</td>\n",
       "      <td>393.740000</td>\n",
       "      <td>10.565000</td>\n",
       "      <td>21.500000</td>\n",
       "    </tr>\n",
       "    <tr>\n",
       "      <th>75%</th>\n",
       "      <td>2.061955</td>\n",
       "      <td>0.000000</td>\n",
       "      <td>18.100000</td>\n",
       "      <td>0.000000</td>\n",
       "      <td>0.612750</td>\n",
       "      <td>6.540000</td>\n",
       "      <td>93.500000</td>\n",
       "      <td>5.609225</td>\n",
       "      <td>8.000000</td>\n",
       "      <td>461.000000</td>\n",
       "      <td>20.200000</td>\n",
       "      <td>396.900000</td>\n",
       "      <td>16.267500</td>\n",
       "      <td>25.000000</td>\n",
       "    </tr>\n",
       "    <tr>\n",
       "      <th>max</th>\n",
       "      <td>88.976200</td>\n",
       "      <td>90.000000</td>\n",
       "      <td>27.740000</td>\n",
       "      <td>1.000000</td>\n",
       "      <td>0.871000</td>\n",
       "      <td>8.725000</td>\n",
       "      <td>100.000000</td>\n",
       "      <td>10.585700</td>\n",
       "      <td>24.000000</td>\n",
       "      <td>711.000000</td>\n",
       "      <td>22.000000</td>\n",
       "      <td>396.900000</td>\n",
       "      <td>37.970000</td>\n",
       "      <td>50.000000</td>\n",
       "    </tr>\n",
       "  </tbody>\n",
       "</table>\n",
       "</div>"
      ],
      "text/plain": [
       "             CRIM          ZN       INDUS        CHAS         NOX          RM  \\\n",
       "count  102.000000  102.000000  102.000000  102.000000  102.000000  101.000000   \n",
       "mean     3.655942   13.450980   10.312255    0.068627    0.541353    6.304921   \n",
       "std     10.400966   27.503241    6.761154    0.254068    0.111397    0.666113   \n",
       "min      0.009060    0.000000    0.460000    0.000000    0.385000    4.138000   \n",
       "25%      0.057827    0.000000    4.950000    0.000000    0.448000    5.905000   \n",
       "50%      0.176150    0.000000    7.760000    0.000000    0.515000    6.185000   \n",
       "75%      2.061955    0.000000   18.100000    0.000000    0.612750    6.540000   \n",
       "max     88.976200   90.000000   27.740000    1.000000    0.871000    8.725000   \n",
       "\n",
       "              AGE         DIS         RAD         TAX     PTRATIO           B  \\\n",
       "count  102.000000  102.000000  102.000000  102.000000  102.000000  102.000000   \n",
       "mean    66.733333    3.988460    8.813725  391.980392   18.385294  369.670196   \n",
       "std     27.772183    2.131247    8.614667  167.837379    2.310604   68.075774   \n",
       "min      6.500000    1.137000    1.000000  188.000000   12.600000    3.650000   \n",
       "25%     45.850000    2.223650    4.000000  270.000000   16.800000  377.685000   \n",
       "50%     71.100000    3.422950    5.000000  307.000000   19.150000  393.740000   \n",
       "75%     93.500000    5.609225    8.000000  461.000000   20.200000  396.900000   \n",
       "max    100.000000   10.585700   24.000000  711.000000   22.000000  396.900000   \n",
       "\n",
       "            LSTAT        MEDV  \n",
       "count  102.000000  102.000000  \n",
       "mean    12.104314   22.625490  \n",
       "std      6.759257    8.452344  \n",
       "min      2.470000    5.000000  \n",
       "25%      7.480000   18.925000  \n",
       "50%     10.565000   21.500000  \n",
       "75%     16.267500   25.000000  \n",
       "max     37.970000   50.000000  "
      ]
     },
     "execution_count": 14,
     "metadata": {},
     "output_type": "execute_result"
    }
   ],
   "source": [
    "strat_test_set.describe()"
   ]
  },
  {
   "cell_type": "code",
   "execution_count": 15,
   "id": "50fbdaae-abd0-4cea-b9d5-5699a3b8d4c2",
   "metadata": {},
   "outputs": [
    {
     "name": "stdout",
     "output_type": "stream",
     "text": [
      "<class 'pandas.core.frame.DataFrame'>\n",
      "Index: 102 entries, 342 to 218\n",
      "Data columns (total 14 columns):\n",
      " #   Column   Non-Null Count  Dtype  \n",
      "---  ------   --------------  -----  \n",
      " 0   CRIM     102 non-null    float64\n",
      " 1   ZN       102 non-null    float64\n",
      " 2   INDUS    102 non-null    float64\n",
      " 3   CHAS     102 non-null    int64  \n",
      " 4   NOX      102 non-null    float64\n",
      " 5   RM       101 non-null    float64\n",
      " 6   AGE      102 non-null    float64\n",
      " 7   DIS      102 non-null    float64\n",
      " 8   RAD      102 non-null    int64  \n",
      " 9   TAX      102 non-null    int64  \n",
      " 10  PTRATIO  102 non-null    float64\n",
      " 11  B        102 non-null    float64\n",
      " 12  LSTAT    102 non-null    float64\n",
      " 13  MEDV     102 non-null    float64\n",
      "dtypes: float64(11), int64(3)\n",
      "memory usage: 12.0 KB\n"
     ]
    }
   ],
   "source": [
    "strat_test_set.info()"
   ]
  },
  {
   "cell_type": "code",
   "execution_count": 16,
   "id": "3b0ee316-331c-474a-aed9-c5ba2caa32c0",
   "metadata": {},
   "outputs": [
    {
     "data": {
      "text/html": [
       "<div>\n",
       "<style scoped>\n",
       "    .dataframe tbody tr th:only-of-type {\n",
       "        vertical-align: middle;\n",
       "    }\n",
       "\n",
       "    .dataframe tbody tr th {\n",
       "        vertical-align: top;\n",
       "    }\n",
       "\n",
       "    .dataframe thead th {\n",
       "        text-align: right;\n",
       "    }\n",
       "</style>\n",
       "<table border=\"1\" class=\"dataframe\">\n",
       "  <thead>\n",
       "    <tr style=\"text-align: right;\">\n",
       "      <th></th>\n",
       "      <th>CRIM</th>\n",
       "      <th>ZN</th>\n",
       "      <th>INDUS</th>\n",
       "      <th>CHAS</th>\n",
       "      <th>NOX</th>\n",
       "      <th>RM</th>\n",
       "      <th>AGE</th>\n",
       "      <th>DIS</th>\n",
       "      <th>RAD</th>\n",
       "      <th>TAX</th>\n",
       "      <th>PTRATIO</th>\n",
       "      <th>B</th>\n",
       "      <th>LSTAT</th>\n",
       "      <th>MEDV</th>\n",
       "    </tr>\n",
       "  </thead>\n",
       "  <tbody>\n",
       "    <tr>\n",
       "      <th>count</th>\n",
       "      <td>404.000000</td>\n",
       "      <td>404.000000</td>\n",
       "      <td>404.000000</td>\n",
       "      <td>404.000000</td>\n",
       "      <td>404.000000</td>\n",
       "      <td>400.000000</td>\n",
       "      <td>404.000000</td>\n",
       "      <td>404.000000</td>\n",
       "      <td>404.000000</td>\n",
       "      <td>404.000000</td>\n",
       "      <td>404.000000</td>\n",
       "      <td>404.000000</td>\n",
       "      <td>404.000000</td>\n",
       "      <td>404.000000</td>\n",
       "    </tr>\n",
       "    <tr>\n",
       "      <th>mean</th>\n",
       "      <td>3.602814</td>\n",
       "      <td>10.836634</td>\n",
       "      <td>11.344950</td>\n",
       "      <td>0.069307</td>\n",
       "      <td>0.558064</td>\n",
       "      <td>6.277088</td>\n",
       "      <td>69.039851</td>\n",
       "      <td>3.746210</td>\n",
       "      <td>9.735149</td>\n",
       "      <td>412.341584</td>\n",
       "      <td>18.473267</td>\n",
       "      <td>353.392822</td>\n",
       "      <td>12.791609</td>\n",
       "      <td>22.509406</td>\n",
       "    </tr>\n",
       "    <tr>\n",
       "      <th>std</th>\n",
       "      <td>8.099383</td>\n",
       "      <td>22.150636</td>\n",
       "      <td>6.877817</td>\n",
       "      <td>0.254290</td>\n",
       "      <td>0.116875</td>\n",
       "      <td>0.714051</td>\n",
       "      <td>28.258248</td>\n",
       "      <td>2.099057</td>\n",
       "      <td>8.731259</td>\n",
       "      <td>168.672623</td>\n",
       "      <td>2.129243</td>\n",
       "      <td>96.069235</td>\n",
       "      <td>7.235740</td>\n",
       "      <td>9.385531</td>\n",
       "    </tr>\n",
       "    <tr>\n",
       "      <th>min</th>\n",
       "      <td>0.006320</td>\n",
       "      <td>0.000000</td>\n",
       "      <td>0.740000</td>\n",
       "      <td>0.000000</td>\n",
       "      <td>0.389000</td>\n",
       "      <td>3.561000</td>\n",
       "      <td>2.900000</td>\n",
       "      <td>1.129600</td>\n",
       "      <td>1.000000</td>\n",
       "      <td>187.000000</td>\n",
       "      <td>13.000000</td>\n",
       "      <td>0.320000</td>\n",
       "      <td>1.730000</td>\n",
       "      <td>5.000000</td>\n",
       "    </tr>\n",
       "    <tr>\n",
       "      <th>25%</th>\n",
       "      <td>0.086962</td>\n",
       "      <td>0.000000</td>\n",
       "      <td>5.190000</td>\n",
       "      <td>0.000000</td>\n",
       "      <td>0.453000</td>\n",
       "      <td>5.877250</td>\n",
       "      <td>44.850000</td>\n",
       "      <td>2.035975</td>\n",
       "      <td>4.000000</td>\n",
       "      <td>284.000000</td>\n",
       "      <td>17.400000</td>\n",
       "      <td>374.617500</td>\n",
       "      <td>6.847500</td>\n",
       "      <td>16.600000</td>\n",
       "    </tr>\n",
       "    <tr>\n",
       "      <th>50%</th>\n",
       "      <td>0.286735</td>\n",
       "      <td>0.000000</td>\n",
       "      <td>9.900000</td>\n",
       "      <td>0.000000</td>\n",
       "      <td>0.538000</td>\n",
       "      <td>6.210000</td>\n",
       "      <td>78.200000</td>\n",
       "      <td>3.122200</td>\n",
       "      <td>5.000000</td>\n",
       "      <td>337.000000</td>\n",
       "      <td>19.000000</td>\n",
       "      <td>390.955000</td>\n",
       "      <td>11.570000</td>\n",
       "      <td>21.150000</td>\n",
       "    </tr>\n",
       "    <tr>\n",
       "      <th>75%</th>\n",
       "      <td>3.731923</td>\n",
       "      <td>12.500000</td>\n",
       "      <td>18.100000</td>\n",
       "      <td>0.000000</td>\n",
       "      <td>0.631000</td>\n",
       "      <td>6.630000</td>\n",
       "      <td>94.100000</td>\n",
       "      <td>5.100400</td>\n",
       "      <td>24.000000</td>\n",
       "      <td>666.000000</td>\n",
       "      <td>20.200000</td>\n",
       "      <td>395.630000</td>\n",
       "      <td>17.102500</td>\n",
       "      <td>25.000000</td>\n",
       "    </tr>\n",
       "    <tr>\n",
       "      <th>max</th>\n",
       "      <td>73.534100</td>\n",
       "      <td>100.000000</td>\n",
       "      <td>27.740000</td>\n",
       "      <td>1.000000</td>\n",
       "      <td>0.871000</td>\n",
       "      <td>8.780000</td>\n",
       "      <td>100.000000</td>\n",
       "      <td>12.126500</td>\n",
       "      <td>24.000000</td>\n",
       "      <td>711.000000</td>\n",
       "      <td>22.000000</td>\n",
       "      <td>396.900000</td>\n",
       "      <td>36.980000</td>\n",
       "      <td>50.000000</td>\n",
       "    </tr>\n",
       "  </tbody>\n",
       "</table>\n",
       "</div>"
      ],
      "text/plain": [
       "             CRIM          ZN       INDUS        CHAS         NOX          RM  \\\n",
       "count  404.000000  404.000000  404.000000  404.000000  404.000000  400.000000   \n",
       "mean     3.602814   10.836634   11.344950    0.069307    0.558064    6.277088   \n",
       "std      8.099383   22.150636    6.877817    0.254290    0.116875    0.714051   \n",
       "min      0.006320    0.000000    0.740000    0.000000    0.389000    3.561000   \n",
       "25%      0.086962    0.000000    5.190000    0.000000    0.453000    5.877250   \n",
       "50%      0.286735    0.000000    9.900000    0.000000    0.538000    6.210000   \n",
       "75%      3.731923   12.500000   18.100000    0.000000    0.631000    6.630000   \n",
       "max     73.534100  100.000000   27.740000    1.000000    0.871000    8.780000   \n",
       "\n",
       "              AGE         DIS         RAD         TAX     PTRATIO           B  \\\n",
       "count  404.000000  404.000000  404.000000  404.000000  404.000000  404.000000   \n",
       "mean    69.039851    3.746210    9.735149  412.341584   18.473267  353.392822   \n",
       "std     28.258248    2.099057    8.731259  168.672623    2.129243   96.069235   \n",
       "min      2.900000    1.129600    1.000000  187.000000   13.000000    0.320000   \n",
       "25%     44.850000    2.035975    4.000000  284.000000   17.400000  374.617500   \n",
       "50%     78.200000    3.122200    5.000000  337.000000   19.000000  390.955000   \n",
       "75%     94.100000    5.100400   24.000000  666.000000   20.200000  395.630000   \n",
       "max    100.000000   12.126500   24.000000  711.000000   22.000000  396.900000   \n",
       "\n",
       "            LSTAT        MEDV  \n",
       "count  404.000000  404.000000  \n",
       "mean    12.791609   22.509406  \n",
       "std      7.235740    9.385531  \n",
       "min      1.730000    5.000000  \n",
       "25%      6.847500   16.600000  \n",
       "50%     11.570000   21.150000  \n",
       "75%     17.102500   25.000000  \n",
       "max     36.980000   50.000000  "
      ]
     },
     "execution_count": 16,
     "metadata": {},
     "output_type": "execute_result"
    }
   ],
   "source": [
    "strat_train_set.describe()"
   ]
  },
  {
   "cell_type": "code",
   "execution_count": 17,
   "id": "ea9a6552-b744-4e87-8247-6a6b9617edc0",
   "metadata": {},
   "outputs": [
    {
     "name": "stdout",
     "output_type": "stream",
     "text": [
      "<class 'pandas.core.frame.DataFrame'>\n",
      "Index: 404 entries, 254 to 216\n",
      "Data columns (total 14 columns):\n",
      " #   Column   Non-Null Count  Dtype  \n",
      "---  ------   --------------  -----  \n",
      " 0   CRIM     404 non-null    float64\n",
      " 1   ZN       404 non-null    float64\n",
      " 2   INDUS    404 non-null    float64\n",
      " 3   CHAS     404 non-null    int64  \n",
      " 4   NOX      404 non-null    float64\n",
      " 5   RM       400 non-null    float64\n",
      " 6   AGE      404 non-null    float64\n",
      " 7   DIS      404 non-null    float64\n",
      " 8   RAD      404 non-null    int64  \n",
      " 9   TAX      404 non-null    int64  \n",
      " 10  PTRATIO  404 non-null    float64\n",
      " 11  B        404 non-null    float64\n",
      " 12  LSTAT    404 non-null    float64\n",
      " 13  MEDV     404 non-null    float64\n",
      "dtypes: float64(11), int64(3)\n",
      "memory usage: 47.3 KB\n"
     ]
    }
   ],
   "source": [
    "strat_train_set.info()"
   ]
  },
  {
   "cell_type": "code",
   "execution_count": 18,
   "id": "3cb2e897-3d9c-4b79-acb4-b51a0faf6353",
   "metadata": {},
   "outputs": [
    {
     "data": {
      "text/plain": [
       "CHAS\n",
       "0    95\n",
       "1     7\n",
       "Name: count, dtype: int64"
      ]
     },
     "execution_count": 18,
     "metadata": {},
     "output_type": "execute_result"
    }
   ],
   "source": [
    "strat_test_set[\"CHAS\"].value_counts()"
   ]
  },
  {
   "cell_type": "code",
   "execution_count": 19,
   "id": "362ed630-c70b-491c-b388-03eb72bf0bbb",
   "metadata": {},
   "outputs": [
    {
     "data": {
      "text/plain": [
       "13.571428571428571"
      ]
     },
     "execution_count": 19,
     "metadata": {},
     "output_type": "execute_result"
    }
   ],
   "source": [
    "95/7"
   ]
  },
  {
   "cell_type": "code",
   "execution_count": 20,
   "id": "4ba5647f-82e9-4836-b0e1-e4df1359888d",
   "metadata": {},
   "outputs": [
    {
     "data": {
      "text/plain": [
       "CHAS\n",
       "0    376\n",
       "1     28\n",
       "Name: count, dtype: int64"
      ]
     },
     "execution_count": 20,
     "metadata": {},
     "output_type": "execute_result"
    }
   ],
   "source": [
    "strat_train_set[\"CHAS\"].value_counts()"
   ]
  },
  {
   "cell_type": "code",
   "execution_count": 21,
   "id": "806c7ab2-0d87-4eb9-b1bd-db094e4ceb30",
   "metadata": {},
   "outputs": [
    {
     "data": {
      "text/plain": [
       "13.428571428571429"
      ]
     },
     "execution_count": 21,
     "metadata": {},
     "output_type": "execute_result"
    }
   ],
   "source": [
    "376/28"
   ]
  },
  {
   "cell_type": "markdown",
   "id": "48f60b19-5bf1-4e1b-b481-47ed2658bdd2",
   "metadata": {
    "jp-MarkdownHeadingCollapsed": true
   },
   "source": [
    "### Now save the train set into housing variable\n",
    "* now onwards consider the training set as housing"
   ]
  },
  {
   "cell_type": "code",
   "execution_count": 22,
   "id": "7403009a-93ca-48d9-8a2d-5824af6afdea",
   "metadata": {},
   "outputs": [
    {
     "data": {
      "text/plain": [
       "(404, 14)"
      ]
     },
     "execution_count": 22,
     "metadata": {},
     "output_type": "execute_result"
    }
   ],
   "source": [
    "# Considering the model training purpose, we will save strat_train_set into housing\n",
    "housing = strat_train_set.copy()\n",
    "housing.shape"
   ]
  },
  {
   "cell_type": "markdown",
   "id": "4d12e545-3c8a-46a1-bb2a-c877d0b212fc",
   "metadata": {},
   "source": [
    "* Looking for correlation"
   ]
  },
  {
   "cell_type": "code",
   "execution_count": 23,
   "id": "59144d72-7eb4-433c-9955-89841e2c70db",
   "metadata": {},
   "outputs": [
    {
     "data": {
      "text/plain": [
       "MEDV       1.000000\n",
       "RM         0.677363\n",
       "B          0.361761\n",
       "ZN         0.339741\n",
       "DIS        0.240451\n",
       "CHAS       0.205066\n",
       "AGE       -0.364596\n",
       "RAD       -0.374693\n",
       "CRIM      -0.393715\n",
       "NOX       -0.422873\n",
       "TAX       -0.456657\n",
       "INDUS     -0.473516\n",
       "PTRATIO   -0.493534\n",
       "LSTAT     -0.740494\n",
       "Name: MEDV, dtype: float64"
      ]
     },
     "execution_count": 23,
     "metadata": {},
     "output_type": "execute_result"
    }
   ],
   "source": [
    "corr_matrix = housing.corr()\n",
    "corr_matrix[\"MEDV\"].sort_values(ascending = False)"
   ]
  },
  {
   "cell_type": "markdown",
   "id": "68ccc4ca-1bed-4f44-90f8-aa5555e3a29a",
   "metadata": {},
   "source": [
    "from above correlation matrix:\n",
    "* RM has strong positive correlation with MEDV\n",
    "* LSTAT has strong negative correlation with MEDV "
   ]
  },
  {
   "cell_type": "markdown",
   "id": "2ead8a5b-97ab-4e54-9ace-337eb2205136",
   "metadata": {
    "jp-MarkdownHeadingCollapsed": true
   },
   "source": [
    "### Find correlation in train dataset"
   ]
  },
  {
   "cell_type": "code",
   "execution_count": 24,
   "id": "8c60c44f-7e95-4bb3-983f-fc81e668048b",
   "metadata": {},
   "outputs": [
    {
     "data": {
      "text/plain": [
       "array([[<Axes: xlabel='MEDV', ylabel='MEDV'>,\n",
       "        <Axes: xlabel='RM', ylabel='MEDV'>,\n",
       "        <Axes: xlabel='LSTAT', ylabel='MEDV'>,\n",
       "        <Axes: xlabel='CHAS', ylabel='MEDV'>,\n",
       "        <Axes: xlabel='AGE', ylabel='MEDV'>],\n",
       "       [<Axes: xlabel='MEDV', ylabel='RM'>,\n",
       "        <Axes: xlabel='RM', ylabel='RM'>,\n",
       "        <Axes: xlabel='LSTAT', ylabel='RM'>,\n",
       "        <Axes: xlabel='CHAS', ylabel='RM'>,\n",
       "        <Axes: xlabel='AGE', ylabel='RM'>],\n",
       "       [<Axes: xlabel='MEDV', ylabel='LSTAT'>,\n",
       "        <Axes: xlabel='RM', ylabel='LSTAT'>,\n",
       "        <Axes: xlabel='LSTAT', ylabel='LSTAT'>,\n",
       "        <Axes: xlabel='CHAS', ylabel='LSTAT'>,\n",
       "        <Axes: xlabel='AGE', ylabel='LSTAT'>],\n",
       "       [<Axes: xlabel='MEDV', ylabel='CHAS'>,\n",
       "        <Axes: xlabel='RM', ylabel='CHAS'>,\n",
       "        <Axes: xlabel='LSTAT', ylabel='CHAS'>,\n",
       "        <Axes: xlabel='CHAS', ylabel='CHAS'>,\n",
       "        <Axes: xlabel='AGE', ylabel='CHAS'>],\n",
       "       [<Axes: xlabel='MEDV', ylabel='AGE'>,\n",
       "        <Axes: xlabel='RM', ylabel='AGE'>,\n",
       "        <Axes: xlabel='LSTAT', ylabel='AGE'>,\n",
       "        <Axes: xlabel='CHAS', ylabel='AGE'>,\n",
       "        <Axes: xlabel='AGE', ylabel='AGE'>]], dtype=object)"
      ]
     },
     "execution_count": 24,
     "metadata": {},
     "output_type": "execute_result"
    },
    {
     "data": {
      "image/png": "[encoded data removed]",
      "text/plain": [
       "<Figure size 1200x800 with 25 Axes>"
      ]
     },
     "metadata": {},
     "output_type": "display_data"
    }
   ],
   "source": [
    "# lets plot the graph using pandas plotting\n",
    "from pandas.plotting import scatter_matrix\n",
    "attributes = [\"MEDV\",\"RM\",\"LSTAT\",\"CHAS\",\"AGE\"]\n",
    "scatter_matrix(housing[attributes], figsize=(12,8), alpha=0.8, color=None)\n"
   ]
  },
  {
   "cell_type": "code",
   "execution_count": 25,
   "id": "7f1aea50-f599-40b7-a622-99612fe1c03d",
   "metadata": {},
   "outputs": [
    {
     "data": {
      "image/png": "[encoded data removed]",
      "text/plain": [
       "<Figure size 800x400 with 1 Axes>"
      ]
     },
     "metadata": {},
     "output_type": "display_data"
    }
   ],
   "source": [
    "# It is clearly seen that RM and MEDV are strongly positive correlated\n",
    "plt.figure(figsize=(8,4))\n",
    "sns.scatterplot(x=housing[\"RM\"], y=housing[\"MEDV\"], alpha=None)\n",
    "plt.show()"
   ]
  },
  {
   "cell_type": "markdown",
   "id": "2c183a04-10da-41d5-bcb1-c19394bc5bb7",
   "metadata": {
    "jp-MarkdownHeadingCollapsed": true
   },
   "source": [
    "## 6. Separate the features and Dependant/Target varible from housing dataset."
   ]
  },
  {
   "cell_type": "code",
   "execution_count": 26,
   "id": "30254722-5881-45f4-8637-de0585686a43",
   "metadata": {},
   "outputs": [],
   "source": [
    "housing_features = strat_train_set.drop(\"MEDV\", axis=1)\n",
    "housing_target_variable = strat_train_set[\"MEDV\"].copy()"
   ]
  },
  {
   "cell_type": "markdown",
   "id": "22e244f9-f050-43eb-b2d1-9b2da6084170",
   "metadata": {
    "jp-MarkdownHeadingCollapsed": true
   },
   "source": [
    "### Findout the missing values and impute them by using SimpleImputer"
   ]
  },
  {
   "cell_type": "markdown",
   "id": "4343d870-c662-4c3d-bce3-ad2a11b026ac",
   "metadata": {},
   "source": [
    "* findout the missingvalues"
   ]
  },
  {
   "cell_type": "code",
   "execution_count": 27,
   "id": "9d256573-71ff-45f3-add5-16e82e997985",
   "metadata": {},
   "outputs": [
    {
     "name": "stdout",
     "output_type": "stream",
     "text": [
      "<class 'pandas.core.frame.DataFrame'>\n",
      "Index: 404 entries, 254 to 216\n",
      "Data columns (total 13 columns):\n",
      " #   Column   Non-Null Count  Dtype  \n",
      "---  ------   --------------  -----  \n",
      " 0   CRIM     404 non-null    float64\n",
      " 1   ZN       404 non-null    float64\n",
      " 2   INDUS    404 non-null    float64\n",
      " 3   CHAS     404 non-null    int64  \n",
      " 4   NOX      404 non-null    float64\n",
      " 5   RM       400 non-null    float64\n",
      " 6   AGE      404 non-null    float64\n",
      " 7   DIS      404 non-null    float64\n",
      " 8   RAD      404 non-null    int64  \n",
      " 9   TAX      404 non-null    int64  \n",
      " 10  PTRATIO  404 non-null    float64\n",
      " 11  B        404 non-null    float64\n",
      " 12  LSTAT    404 non-null    float64\n",
      "dtypes: float64(10), int64(3)\n",
      "memory usage: 44.2 KB\n"
     ]
    }
   ],
   "source": [
    "housing_features.info()"
   ]
  },
  {
   "cell_type": "code",
   "execution_count": 28,
   "id": "b05142d0-6aef-4d82-a0cc-3b0f4497738c",
   "metadata": {},
   "outputs": [
    {
     "name": "stdout",
     "output_type": "stream",
     "text": [
      "Feature 'RM' has '5' null values\n"
     ]
    }
   ],
   "source": [
    "# call the function nan to see the missing value\n",
    "nan(housing_df)\n"
   ]
  },
  {
   "cell_type": "code",
   "execution_count": 29,
   "id": "03f9a99a-9f8f-487a-b60c-41beff52130f",
   "metadata": {},
   "outputs": [],
   "source": [
    "# findout the best method to impute\n",
    "mean = housing_features[\"RM\"].mean()\n",
    "median = housing_features[\"RM\"].median()\n",
    "mode = housing_features[\"RM\"].mode()"
   ]
  },
  {
   "cell_type": "code",
   "execution_count": 30,
   "id": "3db4389e-b907-440f-aa9c-ba6dc2746d0b",
   "metadata": {},
   "outputs": [
    {
     "data": {
      "text/html": [
       "<div>\n",
       "<style scoped>\n",
       "    .dataframe tbody tr th:only-of-type {\n",
       "        vertical-align: middle;\n",
       "    }\n",
       "\n",
       "    .dataframe tbody tr th {\n",
       "        vertical-align: top;\n",
       "    }\n",
       "\n",
       "    .dataframe thead th {\n",
       "        text-align: right;\n",
       "    }\n",
       "</style>\n",
       "<table border=\"1\" class=\"dataframe\">\n",
       "  <thead>\n",
       "    <tr style=\"text-align: right;\">\n",
       "      <th></th>\n",
       "      <th>Mean</th>\n",
       "      <th>Median</th>\n",
       "      <th>Mode</th>\n",
       "    </tr>\n",
       "  </thead>\n",
       "  <tbody>\n",
       "    <tr>\n",
       "      <th>0</th>\n",
       "      <td>6.277088</td>\n",
       "      <td>6.21</td>\n",
       "      <td>0    5.713\n",
       "1    6.127\n",
       "2    6.229\n",
       "3    6.417\n",
       "Na...</td>\n",
       "    </tr>\n",
       "  </tbody>\n",
       "</table>\n",
       "</div>"
      ],
      "text/plain": [
       "       Mean  Median                                               Mode\n",
       "0  6.277088    6.21  0    5.713\n",
       "1    6.127\n",
       "2    6.229\n",
       "3    6.417\n",
       "Na..."
      ]
     },
     "execution_count": 30,
     "metadata": {},
     "output_type": "execute_result"
    }
   ],
   "source": [
    "central_tendancy = pd.DataFrame({\"Mean\":[mean], \"Median\":[median], \"Mode\": [mode]})\n",
    "central_tendancy"
   ]
  },
  {
   "cell_type": "code",
   "execution_count": 31,
   "id": "faa18d43-cb22-4938-b8d8-00d5e0b63244",
   "metadata": {},
   "outputs": [
    {
     "data": {
      "text/plain": [
       "Mode\n",
       "[5.713, 6.127, 6.229, 6.417]    1\n",
       "Name: count, dtype: int64"
      ]
     },
     "execution_count": 31,
     "metadata": {},
     "output_type": "execute_result"
    }
   ],
   "source": [
    "central_tendancy.loc[:,\"Mode\"].value_counts()"
   ]
  },
  {
   "cell_type": "code",
   "execution_count": 32,
   "id": "b0fa0561-cde6-4e59-a477-5d9442476e9f",
   "metadata": {},
   "outputs": [
    {
     "data": {
      "image/png": "[encoded data removed]",
      "text/plain": [
       "<Figure size 600x400 with 1 Axes>"
      ]
     },
     "metadata": {},
     "output_type": "display_data"
    }
   ],
   "source": [
    "plt.figure(figsize=(6,4))\n",
    "sns.histplot(housing_features[\"RM\"], bins=20, alpha=0.8, kde=True, color=None)\n",
    "plt.ylabel(\"Frequency\")\n",
    "plt.xlabel(\"RM: No of rooms\")\n",
    "plt.show()"
   ]
  },
  {
   "cell_type": "markdown",
   "id": "b9bd3a62-b410-4edd-b8e3-83d155c273b0",
   "metadata": {},
   "source": [
    "* from above distribution it is clear that the RM has the standard normal distributio and mean,median and mode has the nearly same values.\n"
   ]
  },
  {
   "cell_type": "code",
   "execution_count": 33,
   "id": "7e3d3924-6f86-49f0-aa9e-761384b95362",
   "metadata": {},
   "outputs": [
    {
     "name": "stdout",
     "output_type": "stream",
     "text": [
      "Count before Imputation:  400\n"
     ]
    }
   ],
   "source": [
    "print(\"Count before Imputation: \",housing_features[\"RM\"].count())\n"
   ]
  },
  {
   "cell_type": "markdown",
   "id": "918c36f9-815d-4b5b-947c-f84b6354205c",
   "metadata": {
    "jp-MarkdownHeadingCollapsed": true
   },
   "source": [
    "## 7. Data Transform using Imputer Technique"
   ]
  },
  {
   "cell_type": "code",
   "execution_count": 34,
   "id": "31d2ff9e-7689-4d3c-bc9c-479621d62508",
   "metadata": {},
   "outputs": [],
   "source": [
    "from sklearn.impute import SimpleImputer\n",
    "impute_median = SimpleImputer(strategy=\"median\")\n"
   ]
  },
  {
   "cell_type": "code",
   "execution_count": 35,
   "id": "6a9035b3-8bec-4819-8577-ffe79cc21de6",
   "metadata": {},
   "outputs": [
    {
     "data": {
      "text/plain": [
       "Index(['CRIM', 'ZN', 'INDUS', 'CHAS', 'NOX', 'RM', 'AGE', 'DIS', 'RAD', 'TAX',\n",
       "       'PTRATIO', 'B', 'LSTAT'],\n",
       "      dtype='object')"
      ]
     },
     "execution_count": 35,
     "metadata": {},
     "output_type": "execute_result"
    }
   ],
   "source": [
    "housing_features.columns"
   ]
  },
  {
   "cell_type": "code",
   "execution_count": 36,
   "id": "766979fc-8e01-488b-9520-b5fd52b7c758",
   "metadata": {},
   "outputs": [
    {
     "data": {
      "text/html": [
       "<style>#sk-container-id-1 {color: black;}#sk-container-id-1 pre{padding: 0;}#sk-container-id-1 div.sk-toggleable {background-color: white;}#sk-container-id-1 label.sk-toggleable__label {cursor: pointer;display: block;width: 100%;margin-bottom: 0;padding: 0.3em;box-sizing: border-box;text-align: center;}#sk-container-id-1 label.sk-toggleable__label-arrow:before {content: \"▸\";float: left;margin-right: 0.25em;color: #696969;}#sk-container-id-1 label.sk-toggleable__label-arrow:hover:before {color: black;}#sk-container-id-1 div.sk-estimator:hover label.sk-toggleable__label-arrow:before {color: black;}#sk-container-id-1 div.sk-toggleable__content {max-height: 0;max-width: 0;overflow: hidden;text-align: left;background-color: #f0f8ff;}#sk-container-id-1 div.sk-toggleable__content pre {margin: 0.2em;color: black;border-radius: 0.25em;background-color: #f0f8ff;}#sk-container-id-1 input.sk-toggleable__control:checked~div.sk-toggleable__content {max-height: 200px;max-width: 100%;overflow: auto;}#sk-container-id-1 input.sk-toggleable__control:checked~label.sk-toggleable__label-arrow:before {content: \"▾\";}#sk-container-id-1 div.sk-estimator input.sk-toggleable__control:checked~label.sk-toggleable__label {background-color: #d4ebff;}#sk-container-id-1 div.sk-label input.sk-toggleable__control:checked~label.sk-toggleable__label {background-color: #d4ebff;}#sk-container-id-1 input.sk-hidden--visually {border: 0;clip: rect(1px 1px 1px 1px);clip: rect(1px, 1px, 1px, 1px);height: 1px;margin: -1px;overflow: hidden;padding: 0;position: absolute;width: 1px;}#sk-container-id-1 div.sk-estimator {font-family: monospace;background-color: #f0f8ff;border: 1px dotted black;border-radius: 0.25em;box-sizing: border-box;margin-bottom: 0.5em;}#sk-container-id-1 div.sk-estimator:hover {background-color: #d4ebff;}#sk-container-id-1 div.sk-parallel-item::after {content: \"\";width: 100%;border-bottom: 1px solid gray;flex-grow: 1;}#sk-container-id-1 div.sk-label:hover label.sk-toggleable__label {background-color: #d4ebff;}#sk-container-id-1 div.sk-serial::before {content: \"\";position: absolute;border-left: 1px solid gray;box-sizing: border-box;top: 0;bottom: 0;left: 50%;z-index: 0;}#sk-container-id-1 div.sk-serial {display: flex;flex-direction: column;align-items: center;background-color: white;padding-right: 0.2em;padding-left: 0.2em;position: relative;}#sk-container-id-1 div.sk-item {position: relative;z-index: 1;}#sk-container-id-1 div.sk-parallel {display: flex;align-items: stretch;justify-content: center;background-color: white;position: relative;}#sk-container-id-1 div.sk-item::before, #sk-container-id-1 div.sk-parallel-item::before {content: \"\";position: absolute;border-left: 1px solid gray;box-sizing: border-box;top: 0;bottom: 0;left: 50%;z-index: -1;}#sk-container-id-1 div.sk-parallel-item {display: flex;flex-direction: column;z-index: 1;position: relative;background-color: white;}#sk-container-id-1 div.sk-parallel-item:first-child::after {align-self: flex-end;width: 50%;}#sk-container-id-1 div.sk-parallel-item:last-child::after {align-self: flex-start;width: 50%;}#sk-container-id-1 div.sk-parallel-item:only-child::after {width: 0;}#sk-container-id-1 div.sk-dashed-wrapped {border: 1px dashed gray;margin: 0 0.4em 0.5em 0.4em;box-sizing: border-box;padding-bottom: 0.4em;background-color: white;}#sk-container-id-1 div.sk-label label {font-family: monospace;font-weight: bold;display: inline-block;line-height: 1.2em;}#sk-container-id-1 div.sk-label-container {text-align: center;}#sk-container-id-1 div.sk-container {/* jupyter's `normalize.less` sets `[hidden] { display: none; }` but bootstrap.min.css set `[hidden] { display: none !important; }` so we also need the `!important` here to be able to override the default hidden behavior on the sphinx rendered scikit-learn.org. See: https://github.com/scikit-learn/scikit-learn/issues/21755 */display: inline-block !important;position: relative;}#sk-container-id-1 div.sk-text-repr-fallback {display: none;}</style><div id=\"sk-container-id-1\" class=\"sk-top-container\"><div class=\"sk-text-repr-fallback\"><pre>SimpleImputer(strategy=&#x27;median&#x27;)</pre><b>In a Jupyter environment, please rerun this cell to show the HTML representation or trust the notebook. <br />On GitHub, the HTML representation is unable to render, please try loading this page with nbviewer.org.</b></div><div class=\"sk-container\" hidden><div class=\"sk-item\"><div class=\"sk-estimator sk-toggleable\"><input class=\"sk-toggleable__control sk-hidden--visually\" id=\"sk-estimator-id-1\" type=\"checkbox\" checked><label for=\"sk-estimator-id-1\" class=\"sk-toggleable__label sk-toggleable__label-arrow\">SimpleImputer</label><div class=\"sk-toggleable__content\"><pre>SimpleImputer(strategy=&#x27;median&#x27;)</pre></div></div></div></div></div>"
      ],
      "text/plain": [
       "SimpleImputer(strategy='median')"
      ]
     },
     "execution_count": 36,
     "metadata": {},
     "output_type": "execute_result"
    }
   ],
   "source": [
    "# fit the housing dataset for median strategy\n",
    "impute_median.fit(housing_features)"
   ]
  },
  {
   "cell_type": "code",
   "execution_count": 37,
   "id": "cb31e7cd-9fb5-4b92-8b64-cc1afc9daf5c",
   "metadata": {},
   "outputs": [
    {
     "name": "stdout",
     "output_type": "stream",
     "text": [
      "<class 'numpy.ndarray'>\n"
     ]
    },
    {
     "data": {
      "text/plain": [
       "array([[4.81900e-02, 8.00000e+01, 3.64000e+00, ..., 1.64000e+01,\n",
       "        3.92890e+02, 6.57000e+00],\n",
       "       [1.50100e-02, 8.00000e+01, 2.01000e+00, ..., 1.70000e+01,\n",
       "        3.90940e+02, 5.99000e+00],\n",
       "       [4.87141e+00, 0.00000e+00, 1.81000e+01, ..., 2.02000e+01,\n",
       "        3.96210e+02, 1.86800e+01],\n",
       "       ...,\n",
       "       [8.18700e-02, 0.00000e+00, 2.89000e+00, ..., 1.80000e+01,\n",
       "        3.93530e+02, 3.57000e+00],\n",
       "       [4.75237e+00, 0.00000e+00, 1.81000e+01, ..., 2.02000e+01,\n",
       "        5.09200e+01, 1.81300e+01],\n",
       "       [4.56000e-02, 0.00000e+00, 1.38900e+01, ..., 1.64000e+01,\n",
       "        3.92800e+02, 1.35100e+01]])"
      ]
     },
     "execution_count": 37,
     "metadata": {},
     "output_type": "execute_result"
    }
   ],
   "source": [
    "# transform the housing dataset using median imputer\n",
    "x = impute_median.transform(housing_features)\n",
    "print(type(x))\n",
    "x"
   ]
  },
  {
   "cell_type": "code",
   "execution_count": 38,
   "id": "4bde0b8b-b051-459e-bfd3-e16449dea173",
   "metadata": {},
   "outputs": [],
   "source": [
    "# convert numpy array into a dataframe\n",
    "housing_features_tr = pd.DataFrame(x, columns=housing_features.columns)\n"
   ]
  },
  {
   "cell_type": "code",
   "execution_count": 39,
   "id": "4b9623ec-cea3-49b6-9669-485ede04e46d",
   "metadata": {},
   "outputs": [
    {
     "data": {
      "text/plain": [
       "Index(['CRIM', 'ZN', 'INDUS', 'CHAS', 'NOX', 'RM', 'AGE', 'DIS', 'RAD', 'TAX',\n",
       "       'PTRATIO', 'B', 'LSTAT'],\n",
       "      dtype='object')"
      ]
     },
     "execution_count": 39,
     "metadata": {},
     "output_type": "execute_result"
    }
   ],
   "source": [
    "housing_features_tr.columns"
   ]
  },
  {
   "cell_type": "code",
   "execution_count": 40,
   "id": "ec66e323-138e-49cc-8566-e71f24ca32c2",
   "metadata": {},
   "outputs": [
    {
     "name": "stdout",
     "output_type": "stream",
     "text": [
      "<class 'pandas.core.frame.DataFrame'>\n",
      "RangeIndex: 404 entries, 0 to 403\n",
      "Data columns (total 13 columns):\n",
      " #   Column   Non-Null Count  Dtype  \n",
      "---  ------   --------------  -----  \n",
      " 0   CRIM     404 non-null    float64\n",
      " 1   ZN       404 non-null    float64\n",
      " 2   INDUS    404 non-null    float64\n",
      " 3   CHAS     404 non-null    float64\n",
      " 4   NOX      404 non-null    float64\n",
      " 5   RM       404 non-null    float64\n",
      " 6   AGE      404 non-null    float64\n",
      " 7   DIS      404 non-null    float64\n",
      " 8   RAD      404 non-null    float64\n",
      " 9   TAX      404 non-null    float64\n",
      " 10  PTRATIO  404 non-null    float64\n",
      " 11  B        404 non-null    float64\n",
      " 12  LSTAT    404 non-null    float64\n",
      "dtypes: float64(13)\n",
      "memory usage: 41.2 KB\n"
     ]
    }
   ],
   "source": [
    "housing_features_tr.info()"
   ]
  },
  {
   "cell_type": "code",
   "execution_count": 41,
   "id": "74ef8603-da16-4eaf-b99c-e121113198e3",
   "metadata": {},
   "outputs": [
    {
     "name": "stdout",
     "output_type": "stream",
     "text": [
      "Count After Imputation:  404\n"
     ]
    }
   ],
   "source": [
    "print(\"Count After Imputation: \", housing_features_tr[\"RM\"].count())\n"
   ]
  },
  {
   "cell_type": "markdown",
   "id": "91437aa5-b02b-459b-bc1d-7a083b7c8983",
   "metadata": {},
   "source": [
    "* Actualy this is the count of records present in the housing_tr dataframe. housing_tr dataset contains the records from training data."
   ]
  },
  {
   "cell_type": "markdown",
   "id": "893871d0-84c2-4bbf-8ccc-39c88ec9119d",
   "metadata": {
    "jp-MarkdownHeadingCollapsed": true
   },
   "source": [
    "## 8. Feature Scaling "
   ]
  },
  {
   "cell_type": "markdown",
   "id": "5f05dadd-4900-4a69-8e7b-75f9dc33bc13",
   "metadata": {
    "jp-MarkdownHeadingCollapsed": true
   },
   "source": [
    "## 9. Pipeline"
   ]
  },
  {
   "cell_type": "markdown",
   "id": "223ef2ef-1a9a-4f12-91f8-b8bba6848302",
   "metadata": {
    "jp-MarkdownHeadingCollapsed": true
   },
   "source": [
    "#### Creating a Pipeline"
   ]
  },
  {
   "cell_type": "code",
   "execution_count": 42,
   "id": "b07f9e7d-ee0c-43ba-ad80-176d64199b14",
   "metadata": {},
   "outputs": [],
   "source": [
    "from sklearn.pipeline import Pipeline\n",
    "from sklearn.preprocessing import StandardScaler\n",
    "\n",
    "pipe = Pipeline([\n",
    "    (\"imputer\", SimpleImputer(strategy=\"median\")),\n",
    "     # add as many Estimators as you want...\n",
    "    (\"scaler\", StandardScaler())\n",
    "])"
   ]
  },
  {
   "cell_type": "markdown",
   "id": "c7444957-7c0e-4656-ae5d-b0ab8209c73b",
   "metadata": {},
   "source": [
    "* here I am creating the pipline to impute the missing values, hence I am using housing dataset and not the housing_tr"
   ]
  },
  {
   "cell_type": "code",
   "execution_count": 43,
   "id": "93fd539f-c9b6-46d9-871f-d3ea208ef0e5",
   "metadata": {},
   "outputs": [],
   "source": [
    "# using pipeline all features are fit and transformed in housing_features_tr \n",
    "housing_features_tr = pipe.fit_transform(housing_features)\n"
   ]
  },
  {
   "cell_type": "code",
   "execution_count": 44,
   "id": "1f2c4ff6-3ecd-436f-9229-c2d3e113182c",
   "metadata": {},
   "outputs": [],
   "source": [
    "housing_features_tr = pd.DataFrame(housing_features_tr, columns=housing_features.columns)"
   ]
  },
  {
   "cell_type": "code",
   "execution_count": 45,
   "id": "0a221540-0f87-4537-b2d1-1c300093dc29",
   "metadata": {},
   "outputs": [
    {
     "data": {
      "text/plain": [
       "404"
      ]
     },
     "execution_count": 45,
     "metadata": {},
     "output_type": "execute_result"
    }
   ],
   "source": [
    "housing_features_tr[\"RM\"].count()"
   ]
  },
  {
   "cell_type": "code",
   "execution_count": 46,
   "id": "1d621c35-b38c-46e8-a3bc-9515a1002727",
   "metadata": {},
   "outputs": [
    {
     "data": {
      "text/plain": [
       "Index(['CRIM', 'ZN', 'INDUS', 'CHAS', 'NOX', 'RM', 'AGE', 'DIS', 'RAD', 'TAX',\n",
       "       'PTRATIO', 'B', 'LSTAT'],\n",
       "      dtype='object')"
      ]
     },
     "execution_count": 46,
     "metadata": {},
     "output_type": "execute_result"
    }
   ],
   "source": [
    "# check if dependant variable \"MEDV\" present \n",
    "housing_features_tr.columns"
   ]
  },
  {
   "cell_type": "markdown",
   "id": "8d2067b0-398f-466d-89e2-cff7e133cf9f",
   "metadata": {},
   "source": [
    "* Now I have transformed data and imputed the null values by imputer model and data is ready to apply some regression model to see which one fits the best. "
   ]
  },
  {
   "cell_type": "markdown",
   "id": "6ed38221-a88f-4115-832a-207b1f31ce39",
   "metadata": {
    "jp-MarkdownHeadingCollapsed": true
   },
   "source": [
    "## 10. Selecting the desired Model"
   ]
  },
  {
   "cell_type": "markdown",
   "id": "75e4be49-cad2-47e5-b38d-36d37346d0bf",
   "metadata": {},
   "source": [
    "### 1. Linear Regression"
   ]
  },
  {
   "cell_type": "code",
   "execution_count": 47,
   "id": "807007ba-fe4f-4c44-a38b-bf17eb691fbd",
   "metadata": {},
   "outputs": [
    {
     "data": {
      "text/html": [
       "<style>#sk-container-id-2 {color: black;}#sk-container-id-2 pre{padding: 0;}#sk-container-id-2 div.sk-toggleable {background-color: white;}#sk-container-id-2 label.sk-toggleable__label {cursor: pointer;display: block;width: 100%;margin-bottom: 0;padding: 0.3em;box-sizing: border-box;text-align: center;}#sk-container-id-2 label.sk-toggleable__label-arrow:before {content: \"▸\";float: left;margin-right: 0.25em;color: #696969;}#sk-container-id-2 label.sk-toggleable__label-arrow:hover:before {color: black;}#sk-container-id-2 div.sk-estimator:hover label.sk-toggleable__label-arrow:before {color: black;}#sk-container-id-2 div.sk-toggleable__content {max-height: 0;max-width: 0;overflow: hidden;text-align: left;background-color: #f0f8ff;}#sk-container-id-2 div.sk-toggleable__content pre {margin: 0.2em;color: black;border-radius: 0.25em;background-color: #f0f8ff;}#sk-container-id-2 input.sk-toggleable__control:checked~div.sk-toggleable__content {max-height: 200px;max-width: 100%;overflow: auto;}#sk-container-id-2 input.sk-toggleable__control:checked~label.sk-toggleable__label-arrow:before {content: \"▾\";}#sk-container-id-2 div.sk-estimator input.sk-toggleable__control:checked~label.sk-toggleable__label {background-color: #d4ebff;}#sk-container-id-2 div.sk-label input.sk-toggleable__control:checked~label.sk-toggleable__label {background-color: #d4ebff;}#sk-container-id-2 input.sk-hidden--visually {border: 0;clip: rect(1px 1px 1px 1px);clip: rect(1px, 1px, 1px, 1px);height: 1px;margin: -1px;overflow: hidden;padding: 0;position: absolute;width: 1px;}#sk-container-id-2 div.sk-estimator {font-family: monospace;background-color: #f0f8ff;border: 1px dotted black;border-radius: 0.25em;box-sizing: border-box;margin-bottom: 0.5em;}#sk-container-id-2 div.sk-estimator:hover {background-color: #d4ebff;}#sk-container-id-2 div.sk-parallel-item::after {content: \"\";width: 100%;border-bottom: 1px solid gray;flex-grow: 1;}#sk-container-id-2 div.sk-label:hover label.sk-toggleable__label {background-color: #d4ebff;}#sk-container-id-2 div.sk-serial::before {content: \"\";position: absolute;border-left: 1px solid gray;box-sizing: border-box;top: 0;bottom: 0;left: 50%;z-index: 0;}#sk-container-id-2 div.sk-serial {display: flex;flex-direction: column;align-items: center;background-color: white;padding-right: 0.2em;padding-left: 0.2em;position: relative;}#sk-container-id-2 div.sk-item {position: relative;z-index: 1;}#sk-container-id-2 div.sk-parallel {display: flex;align-items: stretch;justify-content: center;background-color: white;position: relative;}#sk-container-id-2 div.sk-item::before, #sk-container-id-2 div.sk-parallel-item::before {content: \"\";position: absolute;border-left: 1px solid gray;box-sizing: border-box;top: 0;bottom: 0;left: 50%;z-index: -1;}#sk-container-id-2 div.sk-parallel-item {display: flex;flex-direction: column;z-index: 1;position: relative;background-color: white;}#sk-container-id-2 div.sk-parallel-item:first-child::after {align-self: flex-end;width: 50%;}#sk-container-id-2 div.sk-parallel-item:last-child::after {align-self: flex-start;width: 50%;}#sk-container-id-2 div.sk-parallel-item:only-child::after {width: 0;}#sk-container-id-2 div.sk-dashed-wrapped {border: 1px dashed gray;margin: 0 0.4em 0.5em 0.4em;box-sizing: border-box;padding-bottom: 0.4em;background-color: white;}#sk-container-id-2 div.sk-label label {font-family: monospace;font-weight: bold;display: inline-block;line-height: 1.2em;}#sk-container-id-2 div.sk-label-container {text-align: center;}#sk-container-id-2 div.sk-container {/* jupyter's `normalize.less` sets `[hidden] { display: none; }` but bootstrap.min.css set `[hidden] { display: none !important; }` so we also need the `!important` here to be able to override the default hidden behavior on the sphinx rendered scikit-learn.org. See: https://github.com/scikit-learn/scikit-learn/issues/21755 */display: inline-block !important;position: relative;}#sk-container-id-2 div.sk-text-repr-fallback {display: none;}</style><div id=\"sk-container-id-2\" class=\"sk-top-container\"><div class=\"sk-text-repr-fallback\"><pre>LinearRegression()</pre><b>In a Jupyter environment, please rerun this cell to show the HTML representation or trust the notebook. <br />On GitHub, the HTML representation is unable to render, please try loading this page with nbviewer.org.</b></div><div class=\"sk-container\" hidden><div class=\"sk-item\"><div class=\"sk-estimator sk-toggleable\"><input class=\"sk-toggleable__control sk-hidden--visually\" id=\"sk-estimator-id-2\" type=\"checkbox\" checked><label for=\"sk-estimator-id-2\" class=\"sk-toggleable__label sk-toggleable__label-arrow\">LinearRegression</label><div class=\"sk-toggleable__content\"><pre>LinearRegression()</pre></div></div></div></div></div>"
      ],
      "text/plain": [
       "LinearRegression()"
      ]
     },
     "execution_count": 47,
     "metadata": {},
     "output_type": "execute_result"
    }
   ],
   "source": [
    "from sklearn.linear_model import LinearRegression\n",
    "lin_model = LinearRegression()\n",
    "lin_model.fit(housing_features_tr, housing_target_variable)"
   ]
  },
  {
   "cell_type": "markdown",
   "id": "607d3494-bb8a-4b62-86cc-8876acbed5e3",
   "metadata": {},
   "source": [
    "* housing_num_tr: contains 13 independant features, and\n",
    "* housing_labels: contains  dependant/Target variable \"MEDV\""
   ]
  },
  {
   "cell_type": "code",
   "execution_count": 48,
   "id": "85f39e31-919c-4734-98ea-4fd5f3c66fd4",
   "metadata": {},
   "outputs": [],
   "source": [
    "prepared_data = pipe.transform(housing_features)"
   ]
  },
  {
   "cell_type": "code",
   "execution_count": 49,
   "id": "a656ce25-7f18-48ff-970a-2143a5e67d85",
   "metadata": {},
   "outputs": [
    {
     "name": "stdout",
     "output_type": "stream",
     "text": [
      "[24.05 27.3  20.5  25.09 23.81 16.7  24.2  24.76 12.46 32.92 12.63 20.54\n",
      "  3.65 29.79 20.39 15.09 20.87 17.34 12.29 20.23 18.75 13.38 17.48 15.\n",
      " 27.2  29.04 12.12 23.59 15.2  32.46 13.28 18.77 13.4  20.18 15.68 24.66\n",
      " 24.04 40.73 33.58 20.34 24.89 30.81 34.23  7.02 16.63  5.68 24.79 29.09\n",
      " 24.22 -3.74 26.61 24.71 25.86 31.08 14.2  34.12 20.51 27.68 30.29 18.52\n",
      " 19.97 18.95 28.82 23.14 11.45 32.65 38.02 13.78 28.03 34.43 27.37 35.96\n",
      " 23.58 13.18 23.82 25.61 30.4  12.43 18.58 19.68 25.02 12.6  20.93 17.86\n",
      " 25.11 19.83 30.46 25.27 32.45  1.24 28.97 25.35 31.3  20.75 20.78 28.94\n",
      " 38.17 21.18 28.85 16.79 17.74 39.   23.89 36.81 18.57 15.78 20.54 25.51\n",
      " 30.1  16.51 19.09  9.08 17.4  22.08 11.38 19.89 13.62 33.02 26.21 15.76\n",
      " 24.47  8.29  9.58 22.19 25.6   8.25 18.38 24.58 16.09 23.1  25.12  8.51\n",
      " 20.51  8.67 37.68 19.92 27.37 26.06 22.08 42.12 17.16 19.32 28.88 20.59\n",
      " 30.59 16.63 21.39 19.35 19.51  3.27 21.4  17.36 36.68 18.34 27.59 16.02\n",
      " 17.6  25.23 24.81 17.47 22.8  24.71 28.03 21.99 41.1  14.31 29.54 33.91\n",
      " 24.08 28.35 22.59 25.65 38.57 25.32 21.65 25.99 15.83 22.46  8.31 19.14\n",
      " 37.96 13.35 21.51 31.71  9.93 32.88 17.12 33.97 27.16 28.44 24.26 33.38\n",
      " 20.5  25.23 15.34 18.28 23.65 31.25 35.31 29.08 21.38 43.23 24.1  19.28\n",
      " 30.8  18.84  3.43 26.84 21.93 14.97 27.99 11.24 27.15 41.12 24.27 36.1\n",
      " 14.83 22.27 14.87 11.36 25.96 19.83 23.57 19.17 20.95 20.47 14.35 23.26\n",
      " 18.42 21.08 22.55 27.01 30.17 23.18 29.2  34.53 23.96  9.91 14.24 19.35\n",
      " 18.38 13.79 31.72 18.45 22.04 20.52 27.3  24.07 25.28 31.89 13.02 23.59\n",
      " 22.83 21.23 23.32  9.43 42.64 43.34 20.42 13.65 16.64 25.51 30.94  6.34\n",
      " 35.92  8.02 24.7  23.77 28.73 20.86 30.66 28.26 18.96 17.81 22.57 36.62\n",
      " 12.51 16.1  21.59 34.81 20.87 27.26 19.59 35.31 33.09 25.07 21.26 16.4\n",
      " 20.61 37.35 19.7  18.72 14.3  11.23 18.86 22.33 12.08 29.91 15.87 44.86\n",
      " 21.03 22.51 35.27 31.01 23.07 10.27  5.7  20.12 17.17 22.81 16.   30.4\n",
      " 17.58 26.13 26.47 20.8  24.76 32.47 39.46 22.37 16.97 21.37 22.72 21.18\n",
      " 27.26 41.47 23.29 17.41 27.23 15.62 32.77 13.36 17.   25.97 28.49 13.93\n",
      " 21.   13.76 19.13 20.23 16.96 14.06 12.89 24.45 28.66 16.   19.58 18.72\n",
      " 18.17 18.63 23.1  18.22 29.18 24.15 25.51 23.21 23.38 30.93 20.3  23.12\n",
      " 22.98 19.21 13.76 27.01 30.79 35.88 26.73 18.54 24.86 19.75 20.46 31.41\n",
      " 20.73 27.09 16.68 17.89 22.45  3.92 22.76 15.94 36.11 31.   16.06 17.14\n",
      " 11.72 24.97 34.78 29.91 35.31 19.78 26.01  6.6   8.4  14.16 17.61 25.79\n",
      " 35.32 10.59 11.42 20.6  12.45 35.19 15.26 27.24]\n"
     ]
    },
    {
     "name": "stderr",
     "output_type": "stream",
     "text": [
      "C:\\Users\\Vaibhav\\AppData\\Local\\Programs\\Python\\Python311\\Lib\\site-packages\\sklearn\\base.py:465: UserWarning: X does not have valid feature names, but LinearRegression was fitted with feature names\n",
      "  warnings.warn(\n"
     ]
    }
   ],
   "source": [
    "print(lin_model.predict(prepared_data).round(2))"
   ]
  },
  {
   "cell_type": "code",
   "execution_count": 50,
   "id": "768d2ab0-b638-453c-9216-8db4b0e8029c",
   "metadata": {},
   "outputs": [
    {
     "data": {
      "text/plain": [
       "254    21.9\n",
       "348    24.5\n",
       "476    16.7\n",
       "321    23.1\n",
       "326    23.0\n",
       "       ... \n",
       "155    15.6\n",
       "423    13.4\n",
       "98     43.8\n",
       "455    14.1\n",
       "216    23.3\n",
       "Name: MEDV, Length: 404, dtype: float64"
      ]
     },
     "execution_count": 50,
     "metadata": {},
     "output_type": "execute_result"
    }
   ],
   "source": [
    "housing_target_variable"
   ]
  },
  {
   "cell_type": "markdown",
   "id": "1624e102-9fd8-44b6-9419-0ab8ecbeeca7",
   "metadata": {},
   "source": [
    "* At first look it seems result is not accurate."
   ]
  },
  {
   "cell_type": "code",
   "execution_count": 51,
   "id": "68f9315d-288b-42b2-873f-6e7fcc0a3047",
   "metadata": {},
   "outputs": [],
   "source": [
    "# lets see the mean_squared_error\n",
    "\n",
    "from sklearn.metrics import mean_squared_error\n",
    "lin_housing_predictions = lin_model.predict(housing_features_tr).round(2)\n",
    "lin_mse = mean_squared_error(housing_target_variable, lin_housing_predictions)\n",
    "lin_rmse = np.sqrt(lin_mse)"
   ]
  },
  {
   "cell_type": "code",
   "execution_count": 52,
   "id": "c7619ff5-2a4d-4f76-90f0-9db0edb5a4d6",
   "metadata": {},
   "outputs": [
    {
     "name": "stdout",
     "output_type": "stream",
     "text": [
      "Mean Squared Error is : 23.53974084158416\n",
      "Root Mean Squared Error is : 4.851777080780212\n"
     ]
    }
   ],
   "source": [
    "print(f\"Mean Squared Error is : {lin_mse}\")\n",
    "print(f\"Root Mean Squared Error is : {lin_rmse}\")"
   ]
  },
  {
   "cell_type": "code",
   "execution_count": 53,
   "id": "5ff59e06-b40c-4549-a865-b748e34e339e",
   "metadata": {},
   "outputs": [
    {
     "name": "stdout",
     "output_type": "stream",
     "text": [
      "Range of the target variable 'MEDV' is: 45.0\n"
     ]
    }
   ],
   "source": [
    "# lets check the target_variable_range, call function created.\n",
    "target_variable_range(housing_df)"
   ]
  },
  {
   "cell_type": "markdown",
   "id": "08f0c8c0-44ef-45b7-8d01-23d24da1aada",
   "metadata": {},
   "source": [
    "### 2. Decision Tree Regressor"
   ]
  },
  {
   "cell_type": "code",
   "execution_count": 54,
   "id": "69646135-ee0a-4441-949c-92bbfe4bbbbb",
   "metadata": {},
   "outputs": [
    {
     "data": {
      "text/html": [
       "<style>#sk-container-id-3 {color: black;}#sk-container-id-3 pre{padding: 0;}#sk-container-id-3 div.sk-toggleable {background-color: white;}#sk-container-id-3 label.sk-toggleable__label {cursor: pointer;display: block;width: 100%;margin-bottom: 0;padding: 0.3em;box-sizing: border-box;text-align: center;}#sk-container-id-3 label.sk-toggleable__label-arrow:before {content: \"▸\";float: left;margin-right: 0.25em;color: #696969;}#sk-container-id-3 label.sk-toggleable__label-arrow:hover:before {color: black;}#sk-container-id-3 div.sk-estimator:hover label.sk-toggleable__label-arrow:before {color: black;}#sk-container-id-3 div.sk-toggleable__content {max-height: 0;max-width: 0;overflow: hidden;text-align: left;background-color: #f0f8ff;}#sk-container-id-3 div.sk-toggleable__content pre {margin: 0.2em;color: black;border-radius: 0.25em;background-color: #f0f8ff;}#sk-container-id-3 input.sk-toggleable__control:checked~div.sk-toggleable__content {max-height: 200px;max-width: 100%;overflow: auto;}#sk-container-id-3 input.sk-toggleable__control:checked~label.sk-toggleable__label-arrow:before {content: \"▾\";}#sk-container-id-3 div.sk-estimator input.sk-toggleable__control:checked~label.sk-toggleable__label {background-color: #d4ebff;}#sk-container-id-3 div.sk-label input.sk-toggleable__control:checked~label.sk-toggleable__label {background-color: #d4ebff;}#sk-container-id-3 input.sk-hidden--visually {border: 0;clip: rect(1px 1px 1px 1px);clip: rect(1px, 1px, 1px, 1px);height: 1px;margin: -1px;overflow: hidden;padding: 0;position: absolute;width: 1px;}#sk-container-id-3 div.sk-estimator {font-family: monospace;background-color: #f0f8ff;border: 1px dotted black;border-radius: 0.25em;box-sizing: border-box;margin-bottom: 0.5em;}#sk-container-id-3 div.sk-estimator:hover {background-color: #d4ebff;}#sk-container-id-3 div.sk-parallel-item::after {content: \"\";width: 100%;border-bottom: 1px solid gray;flex-grow: 1;}#sk-container-id-3 div.sk-label:hover label.sk-toggleable__label {background-color: #d4ebff;}#sk-container-id-3 div.sk-serial::before {content: \"\";position: absolute;border-left: 1px solid gray;box-sizing: border-box;top: 0;bottom: 0;left: 50%;z-index: 0;}#sk-container-id-3 div.sk-serial {display: flex;flex-direction: column;align-items: center;background-color: white;padding-right: 0.2em;padding-left: 0.2em;position: relative;}#sk-container-id-3 div.sk-item {position: relative;z-index: 1;}#sk-container-id-3 div.sk-parallel {display: flex;align-items: stretch;justify-content: center;background-color: white;position: relative;}#sk-container-id-3 div.sk-item::before, #sk-container-id-3 div.sk-parallel-item::before {content: \"\";position: absolute;border-left: 1px solid gray;box-sizing: border-box;top: 0;bottom: 0;left: 50%;z-index: -1;}#sk-container-id-3 div.sk-parallel-item {display: flex;flex-direction: column;z-index: 1;position: relative;background-color: white;}#sk-container-id-3 div.sk-parallel-item:first-child::after {align-self: flex-end;width: 50%;}#sk-container-id-3 div.sk-parallel-item:last-child::after {align-self: flex-start;width: 50%;}#sk-container-id-3 div.sk-parallel-item:only-child::after {width: 0;}#sk-container-id-3 div.sk-dashed-wrapped {border: 1px dashed gray;margin: 0 0.4em 0.5em 0.4em;box-sizing: border-box;padding-bottom: 0.4em;background-color: white;}#sk-container-id-3 div.sk-label label {font-family: monospace;font-weight: bold;display: inline-block;line-height: 1.2em;}#sk-container-id-3 div.sk-label-container {text-align: center;}#sk-container-id-3 div.sk-container {/* jupyter's `normalize.less` sets `[hidden] { display: none; }` but bootstrap.min.css set `[hidden] { display: none !important; }` so we also need the `!important` here to be able to override the default hidden behavior on the sphinx rendered scikit-learn.org. See: https://github.com/scikit-learn/scikit-learn/issues/21755 */display: inline-block !important;position: relative;}#sk-container-id-3 div.sk-text-repr-fallback {display: none;}</style><div id=\"sk-container-id-3\" class=\"sk-top-container\"><div class=\"sk-text-repr-fallback\"><pre>DecisionTreeRegressor()</pre><b>In a Jupyter environment, please rerun this cell to show the HTML representation or trust the notebook. <br />On GitHub, the HTML representation is unable to render, please try loading this page with nbviewer.org.</b></div><div class=\"sk-container\" hidden><div class=\"sk-item\"><div class=\"sk-estimator sk-toggleable\"><input class=\"sk-toggleable__control sk-hidden--visually\" id=\"sk-estimator-id-3\" type=\"checkbox\" checked><label for=\"sk-estimator-id-3\" class=\"sk-toggleable__label sk-toggleable__label-arrow\">DecisionTreeRegressor</label><div class=\"sk-toggleable__content\"><pre>DecisionTreeRegressor()</pre></div></div></div></div></div>"
      ],
      "text/plain": [
       "DecisionTreeRegressor()"
      ]
     },
     "execution_count": 54,
     "metadata": {},
     "output_type": "execute_result"
    }
   ],
   "source": [
    "from sklearn.tree import DecisionTreeRegressor\n",
    "tree_model = DecisionTreeRegressor()\n",
    "tree_model.fit(housing_features_tr, housing_target_variable)"
   ]
  },
  {
   "cell_type": "code",
   "execution_count": 55,
   "id": "2a602031-4ea0-4d5d-8c98-985682bbc97b",
   "metadata": {},
   "outputs": [],
   "source": [
    "from sklearn.metrics import mean_squared_error\n",
    "tree_housing_predictions = tree_model.predict(housing_features_tr)\n",
    "tree_mse = mean_squared_error(housing_target_variable, tree_housing_predictions)\n",
    "tree_rmse = np.sqrt(tree_mse)\n"
   ]
  },
  {
   "cell_type": "code",
   "execution_count": 56,
   "id": "09c6b871-f8cc-4240-8ff5-32e4cc042bc3",
   "metadata": {},
   "outputs": [
    {
     "name": "stdout",
     "output_type": "stream",
     "text": [
      "Mean Squared Error is : 0.0\n",
      "Root Mean Squared Error is : 0.0\n"
     ]
    }
   ],
   "source": [
    "print(f\"Mean Squared Error is : {tree_mse}\")\n",
    "print(f\"Root Mean Squared Error is : {tree_rmse}\")"
   ]
  },
  {
   "cell_type": "markdown",
   "id": "c2e8f4a5-116e-4b9e-84ce-2b222b944799",
   "metadata": {},
   "source": [
    "* DecisionTreeRegressor giving the mse and rmse values as 0.\n",
    "* This is called Overfitting!\n",
    "* model has remebered all the values given and that I don't want\n",
    "  "
   ]
  },
  {
   "cell_type": "markdown",
   "id": "7fd19ed1-d218-443e-abdb-7c86200dd992",
   "metadata": {},
   "source": [
    "### 3. Random Forest Regressor"
   ]
  },
  {
   "cell_type": "code",
   "execution_count": 57,
   "id": "0fdf40eb-74c2-482d-9328-3539595ac142",
   "metadata": {},
   "outputs": [
    {
     "data": {
      "text/html": [
       "<style>#sk-container-id-4 {color: black;}#sk-container-id-4 pre{padding: 0;}#sk-container-id-4 div.sk-toggleable {background-color: white;}#sk-container-id-4 label.sk-toggleable__label {cursor: pointer;display: block;width: 100%;margin-bottom: 0;padding: 0.3em;box-sizing: border-box;text-align: center;}#sk-container-id-4 label.sk-toggleable__label-arrow:before {content: \"▸\";float: left;margin-right: 0.25em;color: #696969;}#sk-container-id-4 label.sk-toggleable__label-arrow:hover:before {color: black;}#sk-container-id-4 div.sk-estimator:hover label.sk-toggleable__label-arrow:before {color: black;}#sk-container-id-4 div.sk-toggleable__content {max-height: 0;max-width: 0;overflow: hidden;text-align: left;background-color: #f0f8ff;}#sk-container-id-4 div.sk-toggleable__content pre {margin: 0.2em;color: black;border-radius: 0.25em;background-color: #f0f8ff;}#sk-container-id-4 input.sk-toggleable__control:checked~div.sk-toggleable__content {max-height: 200px;max-width: 100%;overflow: auto;}#sk-container-id-4 input.sk-toggleable__control:checked~label.sk-toggleable__label-arrow:before {content: \"▾\";}#sk-container-id-4 div.sk-estimator input.sk-toggleable__control:checked~label.sk-toggleable__label {background-color: #d4ebff;}#sk-container-id-4 div.sk-label input.sk-toggleable__control:checked~label.sk-toggleable__label {background-color: #d4ebff;}#sk-container-id-4 input.sk-hidden--visually {border: 0;clip: rect(1px 1px 1px 1px);clip: rect(1px, 1px, 1px, 1px);height: 1px;margin: -1px;overflow: hidden;padding: 0;position: absolute;width: 1px;}#sk-container-id-4 div.sk-estimator {font-family: monospace;background-color: #f0f8ff;border: 1px dotted black;border-radius: 0.25em;box-sizing: border-box;margin-bottom: 0.5em;}#sk-container-id-4 div.sk-estimator:hover {background-color: #d4ebff;}#sk-container-id-4 div.sk-parallel-item::after {content: \"\";width: 100%;border-bottom: 1px solid gray;flex-grow: 1;}#sk-container-id-4 div.sk-label:hover label.sk-toggleable__label {background-color: #d4ebff;}#sk-container-id-4 div.sk-serial::before {content: \"\";position: absolute;border-left: 1px solid gray;box-sizing: border-box;top: 0;bottom: 0;left: 50%;z-index: 0;}#sk-container-id-4 div.sk-serial {display: flex;flex-direction: column;align-items: center;background-color: white;padding-right: 0.2em;padding-left: 0.2em;position: relative;}#sk-container-id-4 div.sk-item {position: relative;z-index: 1;}#sk-container-id-4 div.sk-parallel {display: flex;align-items: stretch;justify-content: center;background-color: white;position: relative;}#sk-container-id-4 div.sk-item::before, #sk-container-id-4 div.sk-parallel-item::before {content: \"\";position: absolute;border-left: 1px solid gray;box-sizing: border-box;top: 0;bottom: 0;left: 50%;z-index: -1;}#sk-container-id-4 div.sk-parallel-item {display: flex;flex-direction: column;z-index: 1;position: relative;background-color: white;}#sk-container-id-4 div.sk-parallel-item:first-child::after {align-self: flex-end;width: 50%;}#sk-container-id-4 div.sk-parallel-item:last-child::after {align-self: flex-start;width: 50%;}#sk-container-id-4 div.sk-parallel-item:only-child::after {width: 0;}#sk-container-id-4 div.sk-dashed-wrapped {border: 1px dashed gray;margin: 0 0.4em 0.5em 0.4em;box-sizing: border-box;padding-bottom: 0.4em;background-color: white;}#sk-container-id-4 div.sk-label label {font-family: monospace;font-weight: bold;display: inline-block;line-height: 1.2em;}#sk-container-id-4 div.sk-label-container {text-align: center;}#sk-container-id-4 div.sk-container {/* jupyter's `normalize.less` sets `[hidden] { display: none; }` but bootstrap.min.css set `[hidden] { display: none !important; }` so we also need the `!important` here to be able to override the default hidden behavior on the sphinx rendered scikit-learn.org. See: https://github.com/scikit-learn/scikit-learn/issues/21755 */display: inline-block !important;position: relative;}#sk-container-id-4 div.sk-text-repr-fallback {display: none;}</style><div id=\"sk-container-id-4\" class=\"sk-top-container\"><div class=\"sk-text-repr-fallback\"><pre>RandomForestRegressor()</pre><b>In a Jupyter environment, please rerun this cell to show the HTML representation or trust the notebook. <br />On GitHub, the HTML representation is unable to render, please try loading this page with nbviewer.org.</b></div><div class=\"sk-container\" hidden><div class=\"sk-item\"><div class=\"sk-estimator sk-toggleable\"><input class=\"sk-toggleable__control sk-hidden--visually\" id=\"sk-estimator-id-4\" type=\"checkbox\" checked><label for=\"sk-estimator-id-4\" class=\"sk-toggleable__label sk-toggleable__label-arrow\">RandomForestRegressor</label><div class=\"sk-toggleable__content\"><pre>RandomForestRegressor()</pre></div></div></div></div></div>"
      ],
      "text/plain": [
       "RandomForestRegressor()"
      ]
     },
     "execution_count": 57,
     "metadata": {},
     "output_type": "execute_result"
    }
   ],
   "source": [
    "from sklearn.ensemble import RandomForestRegressor\n",
    "forest_model = RandomForestRegressor()\n",
    "forest_model.fit(housing_features_tr, housing_target_variable)"
   ]
  },
  {
   "cell_type": "code",
   "execution_count": 58,
   "id": "b7fb6068-ec8b-4c5b-af5d-3310a999eed9",
   "metadata": {},
   "outputs": [],
   "source": [
    "forest_housing_predictions = forest_model.predict(housing_features_tr)\n",
    "\n",
    "from sklearn.metrics import mean_squared_error\n",
    "forest_mse = mean_squared_error(housing_target_variable, forest_housing_predictions)\n",
    "forest_rmse = np.sqrt(forest_mse)"
   ]
  },
  {
   "cell_type": "code",
   "execution_count": 59,
   "id": "b376e7c4-88b9-4ca5-b8fd-98449503935e",
   "metadata": {},
   "outputs": [
    {
     "name": "stdout",
     "output_type": "stream",
     "text": [
      "Mean Squared Error is : 1.5495\n",
      "Root Mean Squared Error is : 1.2448\n"
     ]
    }
   ],
   "source": [
    "print(f\"Mean Squared Error is : {forest_mse.round(4)}\")\n",
    "print(f\"Root Mean Squared Error is : {forest_rmse.round(4)}\")"
   ]
  },
  {
   "cell_type": "code",
   "execution_count": 60,
   "id": "764739b0-8f86-4ed0-819b-ee49b2e29008",
   "metadata": {},
   "outputs": [
    {
     "data": {
      "text/plain": [
       "array([22.205, 25.298, 16.651, 23.41 , 23.799, 16.888, 24.424, 26.614,\n",
       "       10.479, 31.473, 15.886, 18.355, 10.88 , 34.184, 22.853, 13.734,\n",
       "       18.716, 17.506,  7.014, 20.46 , 18.896, 16.831, 17.974, 25.98 ,\n",
       "       24.378, 24.856, 13.892, 21.229, 14.725, 27.904, 14.635, 18.887,\n",
       "       11.217, 13.186, 20.376, 27.407, 23.532, 48.067, 32.719, 19.55 ,\n",
       "       22.198, 32.297, 36.644,  9.291, 20.224, 12.777, 21.385, 27.106,\n",
       "       22.99 ,  7.769, 24.712, 23.299, 23.96 , 30.625, 15.03 , 37.64 ,\n",
       "       21.758, 24.872, 33.78 , 17.517, 19.849, 19.631, 27.642, 20.911,\n",
       "       14.387, 31.459, 49.658, 14.888, 26.792, 34.845, 22.617, 35.61 ,\n",
       "       22.648, 10.264, 20.526, 27.591, 25.465, 15.096, 16.275, 18.92 ,\n",
       "       30.291,  8.513, 19.7  , 18.849, 26.295, 23.88 , 30.053, 25.371,\n",
       "       29.533, 16.997, 23.07 , 30.151, 28.24 , 20.068, 21.465, 33.386,\n",
       "       31.583, 19.764, 23.168, 17.443, 12.621, 45.897, 20.275, 43.302,\n",
       "       16.997, 15.796, 19.681, 21.649, 27.383, 16.93 , 16.887,  7.927,\n",
       "       14.66 , 20.952, 11.402, 19.242, 14.354, 35.694, 24.443, 15.763,\n",
       "       22.556,  8.098,  8.739, 19.419, 24.02 , 14.139, 16.339, 24.207,\n",
       "       12.804, 21.686, 23.136, 12.398, 17.83 , 11.648, 47.419, 17.665,\n",
       "       24.472, 23.486, 22.111, 49.203, 15.139, 21.683, 27.193, 18.864,\n",
       "       33.228, 17.908, 21.353, 19.004, 20.426,  8.875, 24.064, 15.797,\n",
       "       35.987, 16.653, 25.265, 13.879, 17.785, 19.36 , 24.188, 19.79 ,\n",
       "       25.181, 24.897, 27.961, 19.587, 47.816, 14.459, 24.274, 46.888,\n",
       "       26.175, 23.864, 20.668, 29.121, 44.58 , 22.729, 23.538, 23.659,\n",
       "       14.196, 25.343,  8.984, 19.103, 40.89 , 14.364, 21.134, 29.651,\n",
       "       21.643, 26.67 , 17.539, 27.268, 20.834, 31.036, 21.344, 30.686,\n",
       "       21.816, 23.983, 16.291, 11.81 , 32.075, 30.674, 33.976, 24.008,\n",
       "       17.419, 49.435, 19.691, 21.84 , 28.438, 17.407, 14.253, 22.972,\n",
       "       21.868, 12.911, 26.123, 17.745, 23.111, 46.014, 22.415, 33.615,\n",
       "       15.324, 27.552, 14.467, 10.562, 22.12 , 19.781, 19.341, 18.733,\n",
       "       19.147, 14.216, 10.929, 22.002, 19.664, 20.118, 19.176, 23.143,\n",
       "       24.938, 16.674, 25.319, 34.667, 19.854,  9.853, 13.631, 20.812,\n",
       "       13.178,  9.804, 30.945, 18.156, 21.105, 21.398, 22.951, 23.387,\n",
       "       24.551, 29.956, 12.509, 21.017, 20.008, 21.171, 19.997, 16.284,\n",
       "       48.893, 47.831, 19.468, 11.332, 14.729, 45.803, 25.827,  9.889,\n",
       "       47.574, 14.138, 46.759, 23.748, 26.835, 17.662, 35.182, 21.877,\n",
       "       19.352, 21.595, 22.256, 32.002, 13.886, 12.303, 19.971, 33.5  ,\n",
       "       17.214, 22.535, 17.922, 31.073, 35.781, 23.597, 21.371,  9.943,\n",
       "       22.652, 46.232, 24.433, 11.361, 11.415, 13.488, 15.955, 20.535,\n",
       "       14.727, 42.02 , 15.634, 47.005, 20.749, 21.806, 45.919, 35.077,\n",
       "       21.691,  8.461,  8.057, 23.484, 20.046, 20.381, 16.852, 28.002,\n",
       "       20.128, 21.052, 23.751, 25.348, 31.926, 29.346, 44.528, 21.461,\n",
       "       17.97 , 19.969, 20.596, 16.87 , 21.59 , 48.008, 20.258, 17.796,\n",
       "       23.53 , 16.753, 35.053, 18.783, 19.383, 21.816, 24.12 ,  9.264,\n",
       "       21.076, 19.309, 17.616, 18.591, 18.543, 18.891, 12.884, 22.879,\n",
       "       25.003, 17.043, 18.614, 19.234, 15.093, 20.51 , 20.998, 14.497,\n",
       "       23.681, 21.847, 19.495, 22.06 , 20.317, 30.651, 20.144, 22.042,\n",
       "       18.225, 13.521, 14.223, 26.309, 34.608, 47.799, 21.848, 18.619,\n",
       "       23.467, 18.826, 13.438, 30.847, 23.25 , 46.086, 14.505, 14.576,\n",
       "       20.035,  8.536, 23.289, 19.324, 40.418, 28.227, 18.074, 13.61 ,\n",
       "       12.687, 19.833, 38.846, 24.83 , 33.858, 18.8  , 24.375,  9.428,\n",
       "        8.578, 16.163, 15.043, 26.263, 32.653,  6.544, 20.54 , 15.998,\n",
       "       13.314, 44.122, 14.285, 22.785])"
      ]
     },
     "execution_count": 60,
     "metadata": {},
     "output_type": "execute_result"
    }
   ],
   "source": [
    "forest_housing_predictions"
   ]
  },
  {
   "cell_type": "code",
   "execution_count": 61,
   "id": "94494700-93d8-40da-af5a-6e85c79f18db",
   "metadata": {},
   "outputs": [
    {
     "data": {
      "text/plain": [
       "254    21.9\n",
       "348    24.5\n",
       "476    16.7\n",
       "321    23.1\n",
       "326    23.0\n",
       "       ... \n",
       "155    15.6\n",
       "423    13.4\n",
       "98     43.8\n",
       "455    14.1\n",
       "216    23.3\n",
       "Name: MEDV, Length: 404, dtype: float64"
      ]
     },
     "execution_count": 61,
     "metadata": {},
     "output_type": "execute_result"
    }
   ],
   "source": [
    "housing_target_variable"
   ]
  },
  {
   "cell_type": "markdown",
   "id": "4f34150e-0d5a-4300-9c9b-7a8a4e230176",
   "metadata": {},
   "source": [
    "* forestregressor giving the bestter result than other 2 models."
   ]
  },
  {
   "cell_type": "code",
   "execution_count": 62,
   "id": "ebf6d8fe-903e-48b2-8318-b767be1354fc",
   "metadata": {},
   "outputs": [],
   "source": [
    "# cross validation\n",
    "# create the dataframe of all models and validations"
   ]
  },
  {
   "cell_type": "markdown",
   "id": "f4c1ab3f-204b-477e-88ac-936c88625fd9",
   "metadata": {
    "jp-MarkdownHeadingCollapsed": true
   },
   "source": [
    "## 11. Using better evaluation technique- \n",
    "## Cross Validation"
   ]
  },
  {
   "cell_type": "markdown",
   "id": "1ffaaa18-76c8-4147-8070-7f84a2b04507",
   "metadata": {},
   "source": [
    "### 1. Cross validation for LinearRegression"
   ]
  },
  {
   "cell_type": "code",
   "execution_count": 63,
   "id": "1c2344b5-26b3-485d-b8c8-170112ec31d5",
   "metadata": {},
   "outputs": [],
   "source": [
    "from sklearn.model_selection import cross_val_score\n",
    "lin_scores = cross_val_score(lin_model, housing_features_tr, housing_target_variable,\n",
    "                             scoring=\"neg_mean_squared_error\", cv=10)\n",
    "lin_rmse_scores = np.sqrt(-lin_scores)\n"
   ]
  },
  {
   "cell_type": "code",
   "execution_count": 64,
   "id": "8131547f-0fd5-4a24-a597-8cb777d936de",
   "metadata": {},
   "outputs": [],
   "source": [
    "lin_rmse_score = list(lin_rmse_scores.round(4))\n",
    "lin_rmse_mean = lin_rmse_scores.mean().round(4)\n",
    "lin_rmse_std = lin_rmse_scores.std().round(4)\n"
   ]
  },
  {
   "cell_type": "code",
   "execution_count": 65,
   "id": "d2d3ade8-cc89-44f3-b94f-b21f1447d75b",
   "metadata": {},
   "outputs": [
    {
     "name": "stdout",
     "output_type": "stream",
     "text": [
      "Cross Validation for LinearRegression!\n",
      "\n",
      "Linear Model RMSE scores:  [4.1757, 4.3174, 5.0978, 3.8422, 5.3695, 4.4095, 7.4455, 5.6353, 4.1254, 6.0421] \n",
      "\n",
      "Linear Model RMSE Mean:  5.046\n",
      "Linear Model RMSE std:  1.058\n"
     ]
    }
   ],
   "source": [
    "def print_lin_scores(lin_rmse_scores):\n",
    "    print(\"Cross Validation for LinearRegression!\\n\")\n",
    "    print(\"Linear Model RMSE scores: \", lin_rmse_score, \"\\n\")\n",
    "    print(\"Linear Model RMSE Mean: \", lin_rmse_mean)\n",
    "    print(\"Linear Model RMSE std: \", lin_rmse_std)\n",
    "\n",
    "print_lin_scores(lin_rmse_scores)"
   ]
  },
  {
   "cell_type": "markdown",
   "id": "5cc52358-4207-4883-b45f-e84105b433b0",
   "metadata": {},
   "source": [
    "### 2. Cross validation for DecisionTreeRegressor"
   ]
  },
  {
   "cell_type": "code",
   "execution_count": 66,
   "id": "32a1f846-0216-492e-b614-90cbf202df05",
   "metadata": {},
   "outputs": [],
   "source": [
    "from sklearn.model_selection import cross_val_score\n",
    "tree_scores = cross_val_score(tree_model, housing_features_tr, housing_target_variable,\n",
    "                              scoring=\"neg_mean_squared_error\", cv=10)\n",
    "tree_rmse_scores = np.sqrt(-tree_scores)"
   ]
  },
  {
   "cell_type": "code",
   "execution_count": 67,
   "id": "515c541e-c3dc-45c6-b534-b3370d546d20",
   "metadata": {},
   "outputs": [],
   "source": [
    "tree_rmse_score = tree_rmse_scores.round(4)\n",
    "tree_rmse_mean = tree_rmse_scores.mean().round(4)\n",
    "tree_rmse_std = tree_rmse_scores.std().round(4)\n"
   ]
  },
  {
   "cell_type": "code",
   "execution_count": 68,
   "id": "c2f10fd3-2127-484d-9c00-0d3d28216851",
   "metadata": {},
   "outputs": [
    {
     "name": "stdout",
     "output_type": "stream",
     "text": [
      "Cross Validation for DecisionTreeRegressor!\n",
      "\n",
      "Tree Model RMSE scores : [4.1498 5.7178 5.1891 4.0268 4.3321 4.024  7.4467 3.9563 3.5724 4.1442]\n",
      "Tree Model RMSE Mean : 4.6559\n",
      "Tree Model RMSE std:  1.1082\n"
     ]
    }
   ],
   "source": [
    "def print_tree_scores(tree_rmse_scores):\n",
    "    print(\"Cross Validation for DecisionTreeRegressor!\\n\")\n",
    "    print(\"Tree Model RMSE scores :\", tree_rmse_score)\n",
    "    print(\"Tree Model RMSE Mean :\", tree_rmse_mean)\n",
    "    print(\"Tree Model RMSE std: \", tree_rmse_std)\n",
    "print_tree_scores(tree_rmse_scores)"
   ]
  },
  {
   "cell_type": "markdown",
   "id": "c1aeb086-4592-4d8d-83eb-6adcecc32130",
   "metadata": {},
   "source": [
    "### 3. Cross validation for RandomForestRegressor"
   ]
  },
  {
   "cell_type": "code",
   "execution_count": 69,
   "id": "46991ed5-c579-45f4-bf5f-a656b65e0196",
   "metadata": {},
   "outputs": [],
   "source": [
    "from sklearn.model_selection import cross_val_score\n",
    "forest_scores = cross_val_score(forest_model, housing_features_tr, housing_target_variable,\n",
    "                                scoring=\"neg_mean_squared_error\", cv=10)\n",
    "forest_rmse_scores = np.sqrt(-forest_scores)"
   ]
  },
  {
   "cell_type": "code",
   "execution_count": 70,
   "id": "3fdd012a-4868-4525-8b0a-fadf64f61db6",
   "metadata": {},
   "outputs": [],
   "source": [
    "forest_rmse_score = forest_rmse_scores.round(4)\n",
    "forest_rmse_mean = forest_rmse_scores.mean().round(4)\n",
    "forest_rmse_std = forest_rmse_scores.std().round(4)\n"
   ]
  },
  {
   "cell_type": "code",
   "execution_count": 71,
   "id": "5e964ae5-89e2-4d0a-a2b4-a8b144845a1e",
   "metadata": {},
   "outputs": [
    {
     "name": "stdout",
     "output_type": "stream",
     "text": [
      "Cross Validation for RandomForestRegressor!\n",
      "\n",
      "Forest Model RMSE scores : [2.9058 2.9885 4.3718 2.4737 3.3373 2.8144 4.6897 3.6421 2.934  3.5526]\n",
      "Forest Model RMSE Mean : 3.371\n",
      "Forest Model RMSE std:  0.6721\n"
     ]
    }
   ],
   "source": [
    "def print_forest_scores(forest_rmse_scores):\n",
    "    print(\"Cross Validation for RandomForestRegressor!\\n\")\n",
    "    print(\"Forest Model RMSE scores :\", forest_rmse_score)\n",
    "    print(\"Forest Model RMSE Mean :\", forest_rmse_mean)\n",
    "    print(\"Forest Model RMSE std: \", forest_rmse_std)\n",
    "print_forest_scores(forest_rmse_scores)"
   ]
  },
  {
   "cell_type": "markdown",
   "id": "8c1e46a8-af30-44d2-8283-3bf3b6aca901",
   "metadata": {},
   "source": [
    "### Convert the cross validation output of all model into DataFrame"
   ]
  },
  {
   "cell_type": "code",
   "execution_count": 72,
   "id": "e97eacd2-3ef8-47ba-9416-c92db1d2c6aa",
   "metadata": {},
   "outputs": [],
   "source": [
    "model_scores = pd.DataFrame({\"RegressionModel\":[\"Linear\", \"DecisionTree\", \"RandomForest\"],\n",
    "                              \"RMSE_mean\":[lin_rmse_mean, tree_rmse_mean, forest_rmse_mean],\n",
    "                                \"std\": [lin_rmse_std,tree_rmse_std,forest_rmse_std]})"
   ]
  },
  {
   "cell_type": "code",
   "execution_count": 73,
   "id": "9cbc2e83-46e4-4f4f-951a-935177cdeae2",
   "metadata": {},
   "outputs": [
    {
     "data": {
      "text/html": [
       "<div>\n",
       "<style scoped>\n",
       "    .dataframe tbody tr th:only-of-type {\n",
       "        vertical-align: middle;\n",
       "    }\n",
       "\n",
       "    .dataframe tbody tr th {\n",
       "        vertical-align: top;\n",
       "    }\n",
       "\n",
       "    .dataframe thead th {\n",
       "        text-align: right;\n",
       "    }\n",
       "</style>\n",
       "<table border=\"1\" class=\"dataframe\">\n",
       "  <thead>\n",
       "    <tr style=\"text-align: right;\">\n",
       "      <th></th>\n",
       "      <th>RegressionModel</th>\n",
       "      <th>RMSE_mean</th>\n",
       "      <th>std</th>\n",
       "    </tr>\n",
       "  </thead>\n",
       "  <tbody>\n",
       "    <tr>\n",
       "      <th>2</th>\n",
       "      <td>RandomForest</td>\n",
       "      <td>3.3710</td>\n",
       "      <td>0.6721</td>\n",
       "    </tr>\n",
       "    <tr>\n",
       "      <th>1</th>\n",
       "      <td>DecisionTree</td>\n",
       "      <td>4.6559</td>\n",
       "      <td>1.1082</td>\n",
       "    </tr>\n",
       "    <tr>\n",
       "      <th>0</th>\n",
       "      <td>Linear</td>\n",
       "      <td>5.0460</td>\n",
       "      <td>1.0580</td>\n",
       "    </tr>\n",
       "  </tbody>\n",
       "</table>\n",
       "</div>"
      ],
      "text/plain": [
       "  RegressionModel  RMSE_mean     std\n",
       "2    RandomForest     3.3710  0.6721\n",
       "1    DecisionTree     4.6559  1.1082\n",
       "0          Linear     5.0460  1.0580"
      ]
     },
     "execution_count": 73,
     "metadata": {},
     "output_type": "execute_result"
    }
   ],
   "source": [
    "model_scores.sort_values(\"RMSE_mean\", ascending=True)"
   ]
  },
  {
   "cell_type": "code",
   "execution_count": null,
   "id": "690d597d-7c82-406d-aaf8-7091ffeb992a",
   "metadata": {},
   "outputs": [],
   "source": []
  },
  {
   "cell_type": "markdown",
   "id": "f3a53dd5-069d-4d1f-b7b1-ca17abd471e6",
   "metadata": {
    "jp-MarkdownHeadingCollapsed": true
   },
   "source": [
    "## 12. Chose the correct model with lowest RMSE_mean"
   ]
  },
  {
   "cell_type": "code",
   "execution_count": 74,
   "id": "0bd164e9-1af1-48f7-9e5f-79bb7989753e",
   "metadata": {},
   "outputs": [
    {
     "data": {
      "text/html": [
       "<div>\n",
       "<style scoped>\n",
       "    .dataframe tbody tr th:only-of-type {\n",
       "        vertical-align: middle;\n",
       "    }\n",
       "\n",
       "    .dataframe tbody tr th {\n",
       "        vertical-align: top;\n",
       "    }\n",
       "\n",
       "    .dataframe thead th {\n",
       "        text-align: right;\n",
       "    }\n",
       "</style>\n",
       "<table border=\"1\" class=\"dataframe\">\n",
       "  <thead>\n",
       "    <tr style=\"text-align: right;\">\n",
       "      <th></th>\n",
       "      <th>RegressionModel</th>\n",
       "      <th>RMSE_mean</th>\n",
       "      <th>std</th>\n",
       "    </tr>\n",
       "  </thead>\n",
       "  <tbody>\n",
       "    <tr>\n",
       "      <th>2</th>\n",
       "      <td>RandomForest</td>\n",
       "      <td>3.371</td>\n",
       "      <td>0.6721</td>\n",
       "    </tr>\n",
       "  </tbody>\n",
       "</table>\n",
       "</div>"
      ],
      "text/plain": [
       "  RegressionModel  RMSE_mean     std\n",
       "2    RandomForest      3.371  0.6721"
      ]
     },
     "execution_count": 74,
     "metadata": {},
     "output_type": "execute_result"
    }
   ],
   "source": [
    "select_model = model_scores[model_scores[\"RMSE_mean\"] == model_scores[\"RMSE_mean\"].min()]\n",
    "select_model"
   ]
  },
  {
   "cell_type": "markdown",
   "id": "93062ec0-95a6-4d03-a199-abd0c98ac141",
   "metadata": {},
   "source": [
    "* Hyperparameter Tuning (if needed):\r\n",
    "\r\n",
    "Based on the cross-validation results, you might consider fine-tuning hyperparameters to improve model performance.\r\n",
    "Grid search or randomized search can be used for this purpo\n",
    "\n",
    "* Visualizations:\r\n",
    "\r\n",
    "Create visualizations such as learning curves, residual plots, or feature importance plots to gain further insight\n",
    "\n",
    "* Evaluate on Test Set:\n",
    "\n",
    "Evaluate the final model on an independent test set to assess its generalization performance.\n",
    "\n",
    "* Documentation and Reporting:\r\n",
    "\r\n",
    "Document the chosen model, hyperparameters, and key findings.\r\n",
    "Report the performance metrics and insights to stakeholders or team membe\n",
    "rs.s.se."
   ]
  },
  {
   "cell_type": "markdown",
   "id": "04b6bd9f-0bca-4942-a2e0-c8e0a9025815",
   "metadata": {
    "jp-MarkdownHeadingCollapsed": true
   },
   "source": [
    "## 13. Evaluate Model on TestSet"
   ]
  },
  {
   "cell_type": "markdown",
   "id": "4de1119f-d00b-410c-b352-6e26de03151e",
   "metadata": {},
   "source": [
    "* RandomForestRegressor"
   ]
  },
  {
   "cell_type": "code",
   "execution_count": 75,
   "id": "240187c8-a20b-40c9-b2c9-5baa446746ab",
   "metadata": {},
   "outputs": [
    {
     "data": {
      "text/html": [
       "<style>#sk-container-id-5 {color: black;}#sk-container-id-5 pre{padding: 0;}#sk-container-id-5 div.sk-toggleable {background-color: white;}#sk-container-id-5 label.sk-toggleable__label {cursor: pointer;display: block;width: 100%;margin-bottom: 0;padding: 0.3em;box-sizing: border-box;text-align: center;}#sk-container-id-5 label.sk-toggleable__label-arrow:before {content: \"▸\";float: left;margin-right: 0.25em;color: #696969;}#sk-container-id-5 label.sk-toggleable__label-arrow:hover:before {color: black;}#sk-container-id-5 div.sk-estimator:hover label.sk-toggleable__label-arrow:before {color: black;}#sk-container-id-5 div.sk-toggleable__content {max-height: 0;max-width: 0;overflow: hidden;text-align: left;background-color: #f0f8ff;}#sk-container-id-5 div.sk-toggleable__content pre {margin: 0.2em;color: black;border-radius: 0.25em;background-color: #f0f8ff;}#sk-container-id-5 input.sk-toggleable__control:checked~div.sk-toggleable__content {max-height: 200px;max-width: 100%;overflow: auto;}#sk-container-id-5 input.sk-toggleable__control:checked~label.sk-toggleable__label-arrow:before {content: \"▾\";}#sk-container-id-5 div.sk-estimator input.sk-toggleable__control:checked~label.sk-toggleable__label {background-color: #d4ebff;}#sk-container-id-5 div.sk-label input.sk-toggleable__control:checked~label.sk-toggleable__label {background-color: #d4ebff;}#sk-container-id-5 input.sk-hidden--visually {border: 0;clip: rect(1px 1px 1px 1px);clip: rect(1px, 1px, 1px, 1px);height: 1px;margin: -1px;overflow: hidden;padding: 0;position: absolute;width: 1px;}#sk-container-id-5 div.sk-estimator {font-family: monospace;background-color: #f0f8ff;border: 1px dotted black;border-radius: 0.25em;box-sizing: border-box;margin-bottom: 0.5em;}#sk-container-id-5 div.sk-estimator:hover {background-color: #d4ebff;}#sk-container-id-5 div.sk-parallel-item::after {content: \"\";width: 100%;border-bottom: 1px solid gray;flex-grow: 1;}#sk-container-id-5 div.sk-label:hover label.sk-toggleable__label {background-color: #d4ebff;}#sk-container-id-5 div.sk-serial::before {content: \"\";position: absolute;border-left: 1px solid gray;box-sizing: border-box;top: 0;bottom: 0;left: 50%;z-index: 0;}#sk-container-id-5 div.sk-serial {display: flex;flex-direction: column;align-items: center;background-color: white;padding-right: 0.2em;padding-left: 0.2em;position: relative;}#sk-container-id-5 div.sk-item {position: relative;z-index: 1;}#sk-container-id-5 div.sk-parallel {display: flex;align-items: stretch;justify-content: center;background-color: white;position: relative;}#sk-container-id-5 div.sk-item::before, #sk-container-id-5 div.sk-parallel-item::before {content: \"\";position: absolute;border-left: 1px solid gray;box-sizing: border-box;top: 0;bottom: 0;left: 50%;z-index: -1;}#sk-container-id-5 div.sk-parallel-item {display: flex;flex-direction: column;z-index: 1;position: relative;background-color: white;}#sk-container-id-5 div.sk-parallel-item:first-child::after {align-self: flex-end;width: 50%;}#sk-container-id-5 div.sk-parallel-item:last-child::after {align-self: flex-start;width: 50%;}#sk-container-id-5 div.sk-parallel-item:only-child::after {width: 0;}#sk-container-id-5 div.sk-dashed-wrapped {border: 1px dashed gray;margin: 0 0.4em 0.5em 0.4em;box-sizing: border-box;padding-bottom: 0.4em;background-color: white;}#sk-container-id-5 div.sk-label label {font-family: monospace;font-weight: bold;display: inline-block;line-height: 1.2em;}#sk-container-id-5 div.sk-label-container {text-align: center;}#sk-container-id-5 div.sk-container {/* jupyter's `normalize.less` sets `[hidden] { display: none; }` but bootstrap.min.css set `[hidden] { display: none !important; }` so we also need the `!important` here to be able to override the default hidden behavior on the sphinx rendered scikit-learn.org. See: https://github.com/scikit-learn/scikit-learn/issues/21755 */display: inline-block !important;position: relative;}#sk-container-id-5 div.sk-text-repr-fallback {display: none;}</style><div id=\"sk-container-id-5\" class=\"sk-top-container\"><div class=\"sk-text-repr-fallback\"><pre>RandomForestRegressor()</pre><b>In a Jupyter environment, please rerun this cell to show the HTML representation or trust the notebook. <br />On GitHub, the HTML representation is unable to render, please try loading this page with nbviewer.org.</b></div><div class=\"sk-container\" hidden><div class=\"sk-item\"><div class=\"sk-estimator sk-toggleable\"><input class=\"sk-toggleable__control sk-hidden--visually\" id=\"sk-estimator-id-5\" type=\"checkbox\" checked><label for=\"sk-estimator-id-5\" class=\"sk-toggleable__label sk-toggleable__label-arrow\">RandomForestRegressor</label><div class=\"sk-toggleable__content\"><pre>RandomForestRegressor()</pre></div></div></div></div></div>"
      ],
      "text/plain": [
       "RandomForestRegressor()"
      ]
     },
     "execution_count": 75,
     "metadata": {},
     "output_type": "execute_result"
    }
   ],
   "source": [
    "from sklearn.ensemble import RandomForestRegressor\n",
    "final_forest_model = RandomForestRegressor()\n",
    "final_forest_model.fit(housing_features_tr, housing_target_variable)"
   ]
  },
  {
   "cell_type": "code",
   "execution_count": 76,
   "id": "0f0e05a8-d886-4de8-a3f3-fd169f1e2bae",
   "metadata": {},
   "outputs": [
    {
     "name": "stderr",
     "output_type": "stream",
     "text": [
      "C:\\Users\\Vaibhav\\AppData\\Local\\Programs\\Python\\Python311\\Lib\\site-packages\\sklearn\\base.py:465: UserWarning: X does not have valid feature names, but RandomForestRegressor was fitted with feature names\n",
      "  warnings.warn(\n"
     ]
    }
   ],
   "source": [
    "housing_test_features = strat_test_set.drop(\"MEDV\", axis=1)\n",
    "housing_test_target_variable = strat_test_set[\"MEDV\"].copy()\n",
    " # prepared means, we are filling the null values and other transformation using the SimpleImputer\n",
    "housing_test_features_prepared = pipe.transform(housing_test_features)\n",
    "# make predictions of MEDV on the test_features\n",
    "final_prediction = forest_model.predict(housing_test_features_prepared)\n",
    "# find the MSE \n",
    "final_mse = mean_squared_error(housing_test_target_variable, final_prediction)\n",
    "final_rmse = np.sqrt(final_mse)\n",
    "\n"
   ]
  },
  {
   "cell_type": "code",
   "execution_count": 77,
   "id": "a954853f-bfae-4038-9aa1-90474a02c478",
   "metadata": {},
   "outputs": [
    {
     "data": {
      "text/plain": [
       "array([23.9, 11.5, 25.9, 22.2, 20.1, 15. , 20.3, 14.2, 31.3, 41.1, 19.6,\n",
       "       12. , 23.4, 24.9, 19.6, 11. , 31.5, 14.5, 23.5, 19. , 19.9, 18.2,\n",
       "       17. , 22.5, 18.2, 30.2, 15.8, 32.9,  9.1, 34.4, 24.3, 21.3, 23. ,\n",
       "       10.6, 20.9, 11.4, 43.4, 24.9, 25.4, 42.3, 24.1, 28.5, 20.4, 20.8,\n",
       "       19. , 33.2, 44.3, 20.2, 20.3, 22.6, 20.8, 14.7, 21.5, 15. , 24.4,\n",
       "       32.5, 42. , 28.9, 19.2, 20.7, 46.2,  9.9, 18.8, 26.9, 14.6, 33.2,\n",
       "       20. , 18. , 18.9, 33.4, 26.6, 22.8, 21.5, 22.5, 35. , 13. , 16.1,\n",
       "       20.2, 21.1, 21.5, 22.3, 21.3, 14.1, 22.6, 20.5, 21.1, 14.1, 21. ,\n",
       "       21.7, 23.4, 18.5, 27.2,  7.4, 25.7, 18.5, 29. , 19.7, 31.3, 14.8,\n",
       "       27.9, 21. , 20.5])"
      ]
     },
     "execution_count": 77,
     "metadata": {},
     "output_type": "execute_result"
    }
   ],
   "source": [
    "final_prediction.round(1)"
   ]
  },
  {
   "cell_type": "code",
   "execution_count": 78,
   "id": "7ea3066f-1e05-466c-83de-1c2ef4a8e4ed",
   "metadata": {},
   "outputs": [
    {
     "data": {
      "image/png": "[encoded data removed]",
      "text/plain": [
       "<Figure size 1000x800 with 1 Axes>"
      ]
     },
     "metadata": {},
     "output_type": "display_data"
    }
   ],
   "source": [
    "plt.figure(figsize=(10,8))\n",
    "sns.histplot(final_prediction, bins=20, kde=True)\n",
    "plt.show()"
   ]
  },
  {
   "cell_type": "code",
   "execution_count": 79,
   "id": "ce1a68de-f9dc-4ccb-b0ad-d3d74a40220c",
   "metadata": {},
   "outputs": [
    {
     "data": {
      "text/plain": [
       "342    16.5\n",
       "379    10.2\n",
       "223    30.1\n",
       "219    23.0\n",
       "48     14.4\n",
       "       ... \n",
       "88     23.6\n",
       "466    19.0\n",
       "52     25.0\n",
       "121    20.3\n",
       "218    21.5\n",
       "Name: MEDV, Length: 102, dtype: float64"
      ]
     },
     "execution_count": 79,
     "metadata": {},
     "output_type": "execute_result"
    }
   ],
   "source": [
    "housing_test_target_variable"
   ]
  },
  {
   "cell_type": "code",
   "execution_count": 80,
   "id": "bca2094d-d9a7-4919-b56b-222075c58f25",
   "metadata": {},
   "outputs": [
    {
     "data": {
      "image/png": "[encoded data removed]",
      "text/plain": [
       "<Figure size 1000x800 with 1 Axes>"
      ]
     },
     "metadata": {},
     "output_type": "display_data"
    }
   ],
   "source": [
    "plt.figure(figsize=(10,8))\n",
    "sns.histplot(housing_test_target_variable, bins=20, kde=True)\n",
    "plt.show()"
   ]
  },
  {
   "cell_type": "code",
   "execution_count": 81,
   "id": "6dc4076e-3a8f-4d1b-8d1e-fbd038ed9ba7",
   "metadata": {},
   "outputs": [
    {
     "name": "stdout",
     "output_type": "stream",
     "text": [
      "CRIM\n",
      "ZN\n",
      "INDUS\n",
      "CHAS\n",
      "NOX\n",
      "RM\n",
      "AGE\n",
      "DIS\n",
      "RAD\n",
      "TAX\n",
      "PTRATIO\n",
      "B\n",
      "LSTAT\n"
     ]
    }
   ],
   "source": [
    "for i in (list(housing_test_features.columns)):\n",
    "    print(i)\n"
   ]
  },
  {
   "cell_type": "code",
   "execution_count": 82,
   "id": "61c034fd-e579-4274-bfed-a243438ddfbb",
   "metadata": {},
   "outputs": [
    {
     "name": "stdout",
     "output_type": "stream",
     "text": [
      "final_mse: 8.438987215686275\n"
     ]
    }
   ],
   "source": [
    "print(\"final_mse:\", final_mse)"
   ]
  },
  {
   "cell_type": "code",
   "execution_count": 83,
   "id": "62b52377-02d6-4a77-80b3-324afc06ba00",
   "metadata": {},
   "outputs": [
    {
     "name": "stdout",
     "output_type": "stream",
     "text": [
      "final_rmse: 2.9049934966684994\n"
     ]
    }
   ],
   "source": [
    "print(\"final_rmse:\", final_rmse)"
   ]
  },
  {
   "cell_type": "markdown",
   "id": "66fd646a-5a31-47aa-a03e-bcfd821d6f86",
   "metadata": {
    "jp-MarkdownHeadingCollapsed": true
   },
   "source": [
    "## 14. Saving the model"
   ]
  },
  {
   "cell_type": "code",
   "execution_count": 84,
   "id": "26bb7366-1a94-412c-9717-a7197574fee5",
   "metadata": {},
   "outputs": [
    {
     "data": {
      "text/plain": [
       "['BostonHousing.joblib']"
      ]
     },
     "execution_count": 84,
     "metadata": {},
     "output_type": "execute_result"
    }
   ],
   "source": [
    "# Saving the RandomForestRegressor\n",
    "\n",
    "from joblib import dump, load\n",
    "dump(forest_model, \"BostonHousing.joblib\")"
   ]
  },
  {
   "cell_type": "code",
   "execution_count": null,
   "id": "c88df95b-b47f-4538-b61c-69ef0e4194b2",
   "metadata": {},
   "outputs": [],
   "source": []
  }
 ],
 "metadata": {
  "kernelspec": {
   "display_name": "Python 3 (ipykernel)",
   "language": "python",
   "name": "python3"
  },
  "language_info": {
   "codemirror_mode": {
    "name": "ipython",
    "version": 3
   },
   "file_extension": ".py",
   "mimetype": "text/x-python",
   "name": "python",
   "nbconvert_exporter": "python",
   "pygments_lexer": "ipython3",
   "version": "3.11.0"
  }
 },
 "nbformat": 4,
 "nbformat_minor": 5
}
